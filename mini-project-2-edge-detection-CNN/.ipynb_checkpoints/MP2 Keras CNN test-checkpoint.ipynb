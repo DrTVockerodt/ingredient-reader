{
 "cells": [
  {
   "cell_type": "markdown",
   "metadata": {},
   "source": [
    "# Mini Project 2: Keras CNN test\n",
    "\n",
    "This notebook will be investigating the use of CNNs on MNIST data, as a more accessible way of getting into using CNNs for our edge detection."
   ]
  },
  {
   "cell_type": "code",
   "execution_count": 1,
   "metadata": {},
   "outputs": [],
   "source": [
    "# Imports.\n",
    "import os\n",
    "import tensorflow as tf\n",
    "import keras\n",
    "from tensorflow.keras import utils as np_utils\n",
    "from keras.datasets import mnist \n",
    "from keras.models import Sequential \n",
    "from keras.layers import Dense, Dropout, Flatten \n",
    "from keras.layers import Conv2D, MaxPooling2D \n",
    "from keras import backend as K \n",
    "import numpy as np\n",
    "import matplotlib.pyplot as plt"
   ]
  },
  {
   "cell_type": "code",
   "execution_count": 2,
   "metadata": {},
   "outputs": [],
   "source": [
    "# Importing the MNIST data.\n",
    "(x_train, y_train), (x_test, y_test) = mnist.load_data()"
   ]
  },
  {
   "cell_type": "code",
   "execution_count": 3,
   "metadata": {},
   "outputs": [],
   "source": [
    "# Pre-processing the data so it\n",
    "# fits in the Keras model properly.\n",
    "img_rows, img_cols = 28, 28 \n",
    "\n",
    "if K.image_data_format() == 'channels_first': \n",
    "    x_train = x_train.reshape(x_train.shape[0], 1, img_rows, img_cols) \n",
    "    x_test = x_test.reshape(x_test.shape[0], 1, img_rows, img_cols) \n",
    "    input_shape = (1, img_rows, img_cols) \n",
    "else: \n",
    "    x_train = x_train.reshape(x_train.shape[0], img_rows, img_cols, 1) \n",
    "    x_test = x_test.reshape(x_test.shape[0], img_rows, img_cols, 1) \n",
    "    input_shape = (img_rows, img_cols, 1) \n",
    "\n",
    "# Normalising the greyscale values.\n",
    "x_train = x_train.astype('float32') \n",
    "x_test = x_test.astype('float32') \n",
    "x_train /= 255 \n",
    "x_test /= 255 \n",
    "\n",
    "# Changing the y data to multi-class\n",
    "# vectors.\n",
    "y_train = np_utils.to_categorical(y_train, 10) \n",
    "y_test = np_utils.to_categorical(y_test, 10)"
   ]
  },
  {
   "cell_type": "code",
   "execution_count": 4,
   "metadata": {},
   "outputs": [],
   "source": [
    "# Now building the model.\n",
    "model = Sequential()\n",
    "# Padding = 'same' means that the edges\n",
    "# of the image are not clipped.\n",
    "conv_layer_1 = Conv2D(32, kernel_size = (3, 3),  \n",
    "    activation = 'relu', input_shape = input_shape, name = 'conv_layer_1', padding = 'same')\n",
    "model.add(conv_layer_1)\n",
    "conv_layer_2 = Conv2D(64, kernel_size = (3, 3), activation = 'relu', name = 'conv_layer_2', padding = 'same')\n",
    "model.add(conv_layer_2)\n",
    "# Pooling with size (2,2) taking 2 strides at a time\n",
    "# will half the size of the images.\n",
    "model.add(MaxPooling2D(pool_size = (2, 2), strides = 2))\n",
    "# Dropout will randomly set node weights to 0\n",
    "# (thus preventing training) by the given rate.\n",
    "# This is to prevent overfitting of the data.\n",
    "model.add(Dropout(rate = 0.25))\n",
    "# Flatten will take the input and flatten\n",
    "# its shape.\n",
    "model.add(Flatten()) \n",
    "model.add(Dense(128, activation = 'relu')) \n",
    "model.add(Dropout(rate = 0.5)) \n",
    "model.add(Dense(10, activation = 'softmax'))"
   ]
  },
  {
   "cell_type": "code",
   "execution_count": 5,
   "metadata": {},
   "outputs": [],
   "source": [
    "model.compile(loss = keras.losses.categorical_crossentropy, \n",
    "   optimizer = tf.keras.optimizers.Adadelta(), metrics = ['accuracy'])"
   ]
  },
  {
   "cell_type": "code",
   "execution_count": 6,
   "metadata": {},
   "outputs": [
    {
     "name": "stdout",
     "output_type": "stream",
     "text": [
      "(3, 3, 1, 32)\n"
     ]
    }
   ],
   "source": [
    "print(np.shape(conv_layer_1.get_weights()[0]))"
   ]
  },
  {
   "cell_type": "code",
   "execution_count": 7,
   "metadata": {},
   "outputs": [
    {
     "name": "stdout",
     "output_type": "stream",
     "text": [
      "Sample weight before: \n",
      "[[ 0.09806007 -0.0692459   0.01823038]\n",
      " [-0.10621995  0.00975685  0.01605155]\n",
      " [-0.09132771  0.10464835  0.0912029 ]]\n"
     ]
    },
    {
     "data": {
      "image/png": "[encoded data removed]",
      "text/plain": [
       "<Figure size 432x288 with 10 Axes>"
      ]
     },
     "metadata": {
      "needs_background": "light"
     },
     "output_type": "display_data"
    }
   ],
   "source": [
    "cl1w = conv_layer_1.get_weights()[0][:,:,0,:]\n",
    "print(\"Sample weight before: \\n{}\".format(cl1w[:,:,1]))\n",
    "for i in range(1,10):\n",
    "    plt.subplot(3,3,i)\n",
    "    plt.imshow(cl1w[:,:,i-1], cmap = \"coolwarm\")\n",
    "plt.colorbar()\n",
    "plt.show()"
   ]
  },
  {
   "cell_type": "code",
   "execution_count": 8,
   "metadata": {},
   "outputs": [
    {
     "name": "stdout",
     "output_type": "stream",
     "text": [
      "Epoch 1/12\n",
      "469/469 [==============================] - 49s 102ms/step - loss: 2.2824 - accuracy: 0.1636 - val_loss: 2.2501 - val_accuracy: 0.3617\n",
      "Epoch 2/12\n",
      "469/469 [==============================] - 48s 103ms/step - loss: 2.2251 - accuracy: 0.2895 - val_loss: 2.1750 - val_accuracy: 0.4410\n",
      "Epoch 3/12\n",
      "469/469 [==============================] - 47s 101ms/step - loss: 2.1440 - accuracy: 0.3908 - val_loss: 2.0702 - val_accuracy: 0.5555\n",
      "Epoch 4/12\n",
      "469/469 [==============================] - 46s 99ms/step - loss: 2.0317 - accuracy: 0.4683 - val_loss: 1.9245 - val_accuracy: 0.6515\n",
      "Epoch 5/12\n",
      "469/469 [==============================] - 47s 99ms/step - loss: 1.8797 - accuracy: 0.5364 - val_loss: 1.7311 - val_accuracy: 0.7116\n",
      "Epoch 6/12\n",
      "469/469 [==============================] - 47s 101ms/step - loss: 1.6921 - accuracy: 0.5898 - val_loss: 1.4998 - val_accuracy: 0.7564\n",
      "Epoch 7/12\n",
      "469/469 [==============================] - 48s 102ms/step - loss: 1.4943 - accuracy: 0.6269 - val_loss: 1.2697 - val_accuracy: 0.7805\n",
      "Epoch 8/12\n",
      "469/469 [==============================] - 47s 99ms/step - loss: 1.3124 - accuracy: 0.6550 - val_loss: 1.0728 - val_accuracy: 0.7992\n",
      "Epoch 9/12\n",
      "469/469 [==============================] - 46s 98ms/step - loss: 1.1657 - accuracy: 0.6786 - val_loss: 0.9212 - val_accuracy: 0.8141\n",
      "Epoch 10/12\n",
      "469/469 [==============================] - 47s 101ms/step - loss: 1.0579 - accuracy: 0.6986 - val_loss: 0.8105 - val_accuracy: 0.8252\n",
      "Epoch 11/12\n",
      "469/469 [==============================] - 47s 100ms/step - loss: 0.9720 - accuracy: 0.7188 - val_loss: 0.7278 - val_accuracy: 0.8367\n",
      "Epoch 12/12\n",
      "469/469 [==============================] - 46s 98ms/step - loss: 0.9071 - accuracy: 0.7311 - val_loss: 0.6668 - val_accuracy: 0.8442\n"
     ]
    },
    {
     "data": {
      "text/plain": [
       "<keras.callbacks.History at 0x210c01a5fd0>"
      ]
     },
     "execution_count": 8,
     "metadata": {},
     "output_type": "execute_result"
    }
   ],
   "source": [
    "model.fit(\n",
    "    x_train, y_train, \n",
    "    batch_size = 128,\n",
    "    epochs = 12, \n",
    "    verbose = 1, \n",
    "    validation_data = (x_test, y_test)\n",
    ")"
   ]
  },
  {
   "cell_type": "code",
   "execution_count": 9,
   "metadata": {},
   "outputs": [
    {
     "name": "stdout",
     "output_type": "stream",
     "text": [
      "Sample weight after: \n",
      "[[ 0.09761338 -0.06877422  0.01940376]\n",
      " [-0.10652761  0.01243353  0.02035619]\n",
      " [-0.09125256  0.10749115  0.09480785]]\n"
     ]
    },
    {
     "data": {
      "image/png": "[encoded data removed]",
      "text/plain": [
       "<Figure size 432x288 with 10 Axes>"
      ]
     },
     "metadata": {
      "needs_background": "light"
     },
     "output_type": "display_data"
    }
   ],
   "source": [
    "cl1w = conv_layer_1.get_weights()[0][:,:,0,:]\n",
    "print(\"Sample weight after: \\n{}\".format(cl1w[:,:,1]))\n",
    "for i in range(1,10):\n",
    "    plt.subplot(3,3,i)\n",
    "    plt.imshow(cl1w[:,:,i-1], cmap = \"coolwarm\")\n",
    "plt.colorbar()\n",
    "plt.show()"
   ]
  },
  {
   "cell_type": "markdown",
   "metadata": {},
   "source": [
    "The network trains rather slowly. We will now try and utilise custom filters/kernels to see if this makes a difference like in mini project 1!\n",
    "\n",
    "To do this, we need to look at the shape of the weights."
   ]
  },
  {
   "cell_type": "code",
   "execution_count": 10,
   "metadata": {},
   "outputs": [
    {
     "name": "stdout",
     "output_type": "stream",
     "text": [
      "(2,) (3, 3, 1, 32) (32,)\n",
      "(2,) (3, 3, 32, 64) (64,)\n"
     ]
    },
    {
     "name": "stderr",
     "output_type": "stream",
     "text": [
      "D:\\teren\\AppData\\Local\\Programs\\Anaconda\\lib\\site-packages\\numpy\\core\\_asarray.py:83: VisibleDeprecationWarning: Creating an ndarray from ragged nested sequences (which is a list-or-tuple of lists-or-tuples-or ndarrays with different lengths or shapes) is deprecated. If you meant to do this, you must specify 'dtype=object' when creating the ndarray\n",
      "  return array(a, dtype, copy=False, order=order)\n"
     ]
    }
   ],
   "source": [
    "for layer in model.layers:\n",
    "    if layer.name[0:4] == 'conv':\n",
    "        print(np.shape(layer.get_weights()),np.shape(layer.get_weights()[0]), np.shape(layer.get_weights()[1]))"
   ]
  },
  {
   "cell_type": "markdown",
   "metadata": {},
   "source": [
    "Looking at the shape of the first element of the layer weights, the first two elements correspond to the values of the kernel associated with each image node. The third element corresponds to which image in one of the nodes in the previous layer that the filter applies to, and the fourth gives the node in the current layer that contains the output of the convolution.\n",
    "\n",
    "We can design very simple filters for the first layer, and then assign them to the weights using set_weights() methods."
   ]
  },
  {
   "cell_type": "code",
   "execution_count": 11,
   "metadata": {},
   "outputs": [
    {
     "name": "stdout",
     "output_type": "stream",
     "text": [
      "(2,) (3, 3, 1, 32) (32,)\n"
     ]
    }
   ],
   "source": [
    "# We can create custom weights in much the same\n",
    "# way as before. This time, we distinguish nodes\n",
    "# as producing images. This example is made for\n",
    "# the first hidden layer.\n",
    "n_images_prev = 1\n",
    "n_images_now = 32\n",
    "kernel_size_x = 3\n",
    "kernel_size_y = 3\n",
    "\n",
    "empty_weights = np.zeros(shape = n_images_prev*n_images_now*kernel_size_x*kernel_size_y, dtype = 'object').reshape((kernel_size_x,kernel_size_y,n_images_prev,n_images_now))\n",
    "empty_biases = np.zeros(shape = n_images_now, dtype = 'object')\n",
    "\n",
    "for image_index_prev in range(0,n_images_prev):\n",
    "    for image_index_now in range(0,n_images_now):\n",
    "        # We would open a kernel image here and load\n",
    "        # the pixels.\n",
    "        for index_x in range(0,kernel_size_x):\n",
    "            for index_y in range(0,kernel_size_y):\n",
    "                empty_weights[index_x,index_y,image_index_prev,image_index_now] = 1\n",
    "        empty_biases[image_index_now] = 2\n",
    "        \n",
    "layer_weights = []\n",
    "layer_weights.append(empty_weights)\n",
    "layer_weights.append(empty_biases)\n",
    "# Now checking if we have the right shapes.\n",
    "print(np.shape(layer_weights), np.shape(empty_weights), np.shape(empty_biases))"
   ]
  },
  {
   "cell_type": "code",
   "execution_count": 12,
   "metadata": {},
   "outputs": [
    {
     "name": "stdout",
     "output_type": "stream",
     "text": [
      "BEFORE SET WEIGHTS: \n",
      "[array([[[[ 1.60962686e-01,  9.76133794e-02, -9.01307091e-02,\n",
      "           7.75637999e-02,  1.09995931e-01,  1.34338379e-01,\n",
      "          -7.65385404e-02,  1.69821322e-01,  2.18287278e-02,\n",
      "          -7.43810311e-02, -3.82304415e-02,  3.73920761e-02,\n",
      "          -9.70473289e-02,  4.79668118e-02,  5.24997376e-02,\n",
      "           1.23482704e-01, -1.07252158e-01, -1.39921650e-01,\n",
      "           1.30365696e-02,  6.67620078e-02,  6.62403107e-02,\n",
      "          -1.93687249e-02,  2.80563235e-02, -8.81657004e-02,\n",
      "           7.64054433e-02,  5.28538488e-02,  1.16980694e-01,\n",
      "           1.40203252e-01, -1.01672091e-01, -1.25174686e-01,\n",
      "           1.50168911e-01, -1.55355539e-02]],\n",
      "\n",
      "        [[-4.67361175e-02, -6.87742159e-02,  3.76479290e-02,\n",
      "           9.49041024e-02, -9.00475904e-02,  7.86235183e-02,\n",
      "           1.63948074e-01,  4.98540550e-02, -2.51422226e-02,\n",
      "           1.68349937e-01, -1.04371153e-01, -1.07391059e-01,\n",
      "          -8.86535347e-02,  1.33531436e-01,  2.38896161e-02,\n",
      "          -8.45583379e-02,  3.84324826e-02,  1.72282550e-02,\n",
      "           1.25023261e-01, -1.13873363e-01, -1.21459462e-01,\n",
      "           9.69904959e-02,  1.07357182e-01,  8.27593878e-02,\n",
      "           5.96474186e-02, -9.96874720e-02,  1.66693553e-02,\n",
      "           8.47150385e-02,  1.08919322e-01, -5.27294800e-02,\n",
      "           3.70482579e-02,  2.85742898e-02]],\n",
      "\n",
      "        [[ 8.32062513e-02,  1.94037650e-02, -2.56181061e-02,\n",
      "           6.27138466e-02,  2.34139375e-02,  1.25136912e-01,\n",
      "           1.70241281e-01,  1.04611121e-01, -2.93559898e-02,\n",
      "           3.29895914e-02, -4.73091789e-02,  3.69931348e-02,\n",
      "          -1.39038891e-01, -4.91624847e-02, -4.02283929e-02,\n",
      "          -2.76529398e-02, -1.14796512e-01, -7.11997896e-02,\n",
      "          -9.96163487e-02,  1.57949910e-03, -6.93317130e-02,\n",
      "           2.12152693e-02,  6.91705793e-02,  1.67563155e-01,\n",
      "          -1.20170861e-01,  6.76771700e-02, -3.25156078e-02,\n",
      "           1.40028164e-01,  1.31895855e-01, -9.93644148e-02,\n",
      "          -1.17106184e-01,  1.01962142e-01]]],\n",
      "\n",
      "\n",
      "       [[[-6.08611712e-03, -1.06527612e-01, -1.92335632e-03,\n",
      "           1.47250369e-01, -7.42226765e-02,  8.32592472e-02,\n",
      "           1.78698450e-01,  1.59624636e-01,  2.53810920e-02,\n",
      "           1.50648057e-01,  6.81926087e-02,  1.36075422e-01,\n",
      "           1.96043914e-03,  1.81405410e-01, -1.01431176e-01,\n",
      "          -2.51809061e-02,  5.08868098e-02, -2.69825123e-02,\n",
      "          -3.65924044e-03,  8.97609890e-02, -2.47444138e-02,\n",
      "           1.29717350e-01,  1.28057107e-01, -4.47501056e-02,\n",
      "           1.43586621e-01, -5.34724034e-02, -8.74516368e-02,\n",
      "           5.20022474e-02, -6.48181215e-02,  1.26731813e-01,\n",
      "           4.18943837e-02, -1.05769530e-01]],\n",
      "\n",
      "        [[ 1.37841702e-01,  1.24335326e-02,  5.79903498e-02,\n",
      "           1.06011458e-01,  1.21216334e-01,  1.19473733e-01,\n",
      "          -2.08671782e-02,  1.50553957e-02,  3.15868258e-02,\n",
      "           1.71049297e-01,  1.49025902e-01, -9.04850960e-02,\n",
      "          -1.28768042e-01,  3.66724133e-02, -5.04714362e-02,\n",
      "          -1.22386523e-01,  6.94514886e-02,  1.12533107e-01,\n",
      "          -1.76176094e-02, -5.74630313e-02,  7.40188286e-02,\n",
      "           1.37248099e-01,  5.93088455e-02,  1.65257230e-01,\n",
      "          -6.51767403e-02,  3.50111946e-02, -5.76916616e-03,\n",
      "          -4.90789823e-02,  1.06524013e-01, -4.62389849e-02,\n",
      "          -3.14586982e-02, -1.10878535e-01]],\n",
      "\n",
      "        [[ 6.55195862e-02,  2.03561932e-02, -8.87242556e-02,\n",
      "           4.74261142e-05, -5.56743518e-02, -1.03507899e-01,\n",
      "           1.26652420e-01, -7.65953586e-03,  3.41268145e-02,\n",
      "           6.24061376e-03, -7.74940252e-02, -6.28854260e-02,\n",
      "          -1.42426984e-02,  1.38661310e-01,  1.43240735e-01,\n",
      "           4.21486795e-03,  8.57672840e-02,  7.00267032e-02,\n",
      "          -1.04309432e-01,  3.45197469e-02,  1.42415106e-01,\n",
      "          -7.34574301e-03, -7.14595914e-02,  3.11769713e-02,\n",
      "          -9.59143601e-03, -1.32257398e-02, -1.03919037e-01,\n",
      "           6.32839352e-02, -4.17191684e-02, -6.72099292e-02,\n",
      "          -2.01175865e-02,  1.15014464e-01]]],\n",
      "\n",
      "\n",
      "       [[[-1.05536394e-01, -9.12525579e-02, -1.19803570e-01,\n",
      "           4.15872708e-02, -6.01560883e-02, -1.12255581e-01,\n",
      "          -4.14598286e-02, -6.53146058e-02,  1.42923504e-01,\n",
      "           8.97669867e-02, -2.44077574e-02, -1.26182467e-01,\n",
      "          -8.59325007e-02,  4.36724126e-02,  6.81902990e-02,\n",
      "          -8.83584842e-02,  1.31641954e-01, -9.16292220e-02,\n",
      "           2.03309208e-02, -1.10946894e-01, -7.16874748e-02,\n",
      "          -3.62891890e-02, -1.06861562e-01,  1.82295561e-01,\n",
      "          -8.71117115e-02, -8.04050267e-02,  1.24405578e-01,\n",
      "          -3.54379714e-02,  9.39285308e-02, -3.63441370e-02,\n",
      "           1.30689040e-01,  5.42557389e-02]],\n",
      "\n",
      "        [[ 2.70904321e-02,  1.07491150e-01, -4.57741357e-02,\n",
      "           2.56077200e-02,  5.26381060e-02, -6.34966716e-02,\n",
      "           1.06300553e-03,  1.61812939e-02,  2.28727004e-03,\n",
      "           1.37687325e-01,  1.13971032e-01, -5.77411354e-02,\n",
      "           2.39819624e-02,  7.26647750e-02,  6.37635663e-02,\n",
      "          -3.18462364e-02,  4.65763956e-02, -1.21168740e-01,\n",
      "          -1.91940535e-02, -4.05482315e-02, -1.02570586e-01,\n",
      "          -1.96073279e-02, -2.44283839e-03,  1.51311576e-01,\n",
      "          -7.03043118e-02, -1.28518373e-01, -9.37907398e-02,\n",
      "           2.14725100e-02, -8.31044093e-02, -6.16253018e-02,\n",
      "           1.66032296e-02,  9.75595117e-02]],\n",
      "\n",
      "        [[ 6.28594980e-02,  9.48078483e-02,  6.01539798e-02,\n",
      "          -3.14108245e-02,  1.17417648e-01, -7.91456737e-03,\n",
      "          -7.23504275e-02,  7.34833106e-02,  4.24931012e-02,\n",
      "           1.43548965e-01, -1.29371926e-01,  9.26681235e-02,\n",
      "          -1.20700978e-01,  7.49054253e-02,  5.94383627e-02,\n",
      "          -9.58407745e-02,  1.53168291e-01,  9.66826901e-02,\n",
      "           1.24526843e-01, -9.74567905e-02,  1.54136447e-02,\n",
      "          -1.31124869e-01, -6.28293157e-02,  1.21708252e-01,\n",
      "          -1.04375929e-01, -1.19594008e-01, -1.11445442e-01,\n",
      "          -8.10389519e-02, -7.74579644e-02,  2.01250636e-03,\n",
      "           6.01127781e-02,  1.55677333e-01]]]], dtype=float32), array([ 2.2294671e-06,  4.2471358e-05, -5.4547708e-03,  1.5563114e-06,\n",
      "       -6.6433415e-07,  2.8299133e-03,  2.1566586e-03, -4.8577817e-08,\n",
      "        1.3980215e-03,  8.0065263e-08, -2.2722747e-07,  3.1972476e-03,\n",
      "       -2.9149126e-07, -9.6878841e-07,  2.3481837e-03, -1.0547155e-03,\n",
      "        1.8678361e-03,  7.2792950e-03,  1.0075155e-06,  6.8125559e-04,\n",
      "        2.7312397e-03, -7.3314243e-07,  1.2336731e-03,  1.7810386e-03,\n",
      "        8.0281097e-08,  3.1570832e-03,  8.5770495e-07,  1.5610729e-03,\n",
      "        1.7273177e-03, -1.9975907e-06,  1.7543478e-03,  9.3097668e-07],\n",
      "      dtype=float32)]\n",
      "[array([[[[ 1.60962686e-01,  9.76133794e-02, -9.01307091e-02,\n",
      "           7.75637999e-02,  1.09995931e-01,  1.34338379e-01,\n",
      "          -7.65385404e-02,  1.69821322e-01,  2.18287278e-02,\n",
      "          -7.43810311e-02, -3.82304415e-02,  3.73920761e-02,\n",
      "          -9.70473289e-02,  4.79668118e-02,  5.24997376e-02,\n",
      "           1.23482704e-01, -1.07252158e-01, -1.39921650e-01,\n",
      "           1.30365696e-02,  6.67620078e-02,  6.62403107e-02,\n",
      "          -1.93687249e-02,  2.80563235e-02, -8.81657004e-02,\n",
      "           7.64054433e-02,  5.28538488e-02,  1.16980694e-01,\n",
      "           1.40203252e-01, -1.01672091e-01, -1.25174686e-01,\n",
      "           1.50168911e-01, -1.55355539e-02]],\n",
      "\n",
      "        [[-4.67361175e-02, -6.87742159e-02,  3.76479290e-02,\n",
      "           9.49041024e-02, -9.00475904e-02,  7.86235183e-02,\n",
      "           1.63948074e-01,  4.98540550e-02, -2.51422226e-02,\n",
      "           1.68349937e-01, -1.04371153e-01, -1.07391059e-01,\n",
      "          -8.86535347e-02,  1.33531436e-01,  2.38896161e-02,\n",
      "          -8.45583379e-02,  3.84324826e-02,  1.72282550e-02,\n",
      "           1.25023261e-01, -1.13873363e-01, -1.21459462e-01,\n",
      "           9.69904959e-02,  1.07357182e-01,  8.27593878e-02,\n",
      "           5.96474186e-02, -9.96874720e-02,  1.66693553e-02,\n",
      "           8.47150385e-02,  1.08919322e-01, -5.27294800e-02,\n",
      "           3.70482579e-02,  2.85742898e-02]],\n",
      "\n",
      "        [[ 8.32062513e-02,  1.94037650e-02, -2.56181061e-02,\n",
      "           6.27138466e-02,  2.34139375e-02,  1.25136912e-01,\n",
      "           1.70241281e-01,  1.04611121e-01, -2.93559898e-02,\n",
      "           3.29895914e-02, -4.73091789e-02,  3.69931348e-02,\n",
      "          -1.39038891e-01, -4.91624847e-02, -4.02283929e-02,\n",
      "          -2.76529398e-02, -1.14796512e-01, -7.11997896e-02,\n",
      "          -9.96163487e-02,  1.57949910e-03, -6.93317130e-02,\n",
      "           2.12152693e-02,  6.91705793e-02,  1.67563155e-01,\n",
      "          -1.20170861e-01,  6.76771700e-02, -3.25156078e-02,\n",
      "           1.40028164e-01,  1.31895855e-01, -9.93644148e-02,\n",
      "          -1.17106184e-01,  1.01962142e-01]]],\n",
      "\n",
      "\n",
      "       [[[-6.08611712e-03, -1.06527612e-01, -1.92335632e-03,\n",
      "           1.47250369e-01, -7.42226765e-02,  8.32592472e-02,\n",
      "           1.78698450e-01,  1.59624636e-01,  2.53810920e-02,\n",
      "           1.50648057e-01,  6.81926087e-02,  1.36075422e-01,\n",
      "           1.96043914e-03,  1.81405410e-01, -1.01431176e-01,\n",
      "          -2.51809061e-02,  5.08868098e-02, -2.69825123e-02,\n",
      "          -3.65924044e-03,  8.97609890e-02, -2.47444138e-02,\n",
      "           1.29717350e-01,  1.28057107e-01, -4.47501056e-02,\n",
      "           1.43586621e-01, -5.34724034e-02, -8.74516368e-02,\n",
      "           5.20022474e-02, -6.48181215e-02,  1.26731813e-01,\n",
      "           4.18943837e-02, -1.05769530e-01]],\n",
      "\n",
      "        [[ 1.37841702e-01,  1.24335326e-02,  5.79903498e-02,\n",
      "           1.06011458e-01,  1.21216334e-01,  1.19473733e-01,\n",
      "          -2.08671782e-02,  1.50553957e-02,  3.15868258e-02,\n",
      "           1.71049297e-01,  1.49025902e-01, -9.04850960e-02,\n",
      "          -1.28768042e-01,  3.66724133e-02, -5.04714362e-02,\n",
      "          -1.22386523e-01,  6.94514886e-02,  1.12533107e-01,\n",
      "          -1.76176094e-02, -5.74630313e-02,  7.40188286e-02,\n",
      "           1.37248099e-01,  5.93088455e-02,  1.65257230e-01,\n",
      "          -6.51767403e-02,  3.50111946e-02, -5.76916616e-03,\n",
      "          -4.90789823e-02,  1.06524013e-01, -4.62389849e-02,\n",
      "          -3.14586982e-02, -1.10878535e-01]],\n",
      "\n",
      "        [[ 6.55195862e-02,  2.03561932e-02, -8.87242556e-02,\n",
      "           4.74261142e-05, -5.56743518e-02, -1.03507899e-01,\n",
      "           1.26652420e-01, -7.65953586e-03,  3.41268145e-02,\n",
      "           6.24061376e-03, -7.74940252e-02, -6.28854260e-02,\n",
      "          -1.42426984e-02,  1.38661310e-01,  1.43240735e-01,\n",
      "           4.21486795e-03,  8.57672840e-02,  7.00267032e-02,\n",
      "          -1.04309432e-01,  3.45197469e-02,  1.42415106e-01,\n",
      "          -7.34574301e-03, -7.14595914e-02,  3.11769713e-02,\n",
      "          -9.59143601e-03, -1.32257398e-02, -1.03919037e-01,\n",
      "           6.32839352e-02, -4.17191684e-02, -6.72099292e-02,\n",
      "          -2.01175865e-02,  1.15014464e-01]]],\n",
      "\n",
      "\n",
      "       [[[-1.05536394e-01, -9.12525579e-02, -1.19803570e-01,\n",
      "           4.15872708e-02, -6.01560883e-02, -1.12255581e-01,\n",
      "          -4.14598286e-02, -6.53146058e-02,  1.42923504e-01,\n",
      "           8.97669867e-02, -2.44077574e-02, -1.26182467e-01,\n",
      "          -8.59325007e-02,  4.36724126e-02,  6.81902990e-02,\n",
      "          -8.83584842e-02,  1.31641954e-01, -9.16292220e-02,\n",
      "           2.03309208e-02, -1.10946894e-01, -7.16874748e-02,\n",
      "          -3.62891890e-02, -1.06861562e-01,  1.82295561e-01,\n",
      "          -8.71117115e-02, -8.04050267e-02,  1.24405578e-01,\n",
      "          -3.54379714e-02,  9.39285308e-02, -3.63441370e-02,\n",
      "           1.30689040e-01,  5.42557389e-02]],\n",
      "\n",
      "        [[ 2.70904321e-02,  1.07491150e-01, -4.57741357e-02,\n",
      "           2.56077200e-02,  5.26381060e-02, -6.34966716e-02,\n",
      "           1.06300553e-03,  1.61812939e-02,  2.28727004e-03,\n",
      "           1.37687325e-01,  1.13971032e-01, -5.77411354e-02,\n",
      "           2.39819624e-02,  7.26647750e-02,  6.37635663e-02,\n",
      "          -3.18462364e-02,  4.65763956e-02, -1.21168740e-01,\n",
      "          -1.91940535e-02, -4.05482315e-02, -1.02570586e-01,\n",
      "          -1.96073279e-02, -2.44283839e-03,  1.51311576e-01,\n",
      "          -7.03043118e-02, -1.28518373e-01, -9.37907398e-02,\n",
      "           2.14725100e-02, -8.31044093e-02, -6.16253018e-02,\n",
      "           1.66032296e-02,  9.75595117e-02]],\n",
      "\n",
      "        [[ 6.28594980e-02,  9.48078483e-02,  6.01539798e-02,\n",
      "          -3.14108245e-02,  1.17417648e-01, -7.91456737e-03,\n",
      "          -7.23504275e-02,  7.34833106e-02,  4.24931012e-02,\n",
      "           1.43548965e-01, -1.29371926e-01,  9.26681235e-02,\n",
      "          -1.20700978e-01,  7.49054253e-02,  5.94383627e-02,\n",
      "          -9.58407745e-02,  1.53168291e-01,  9.66826901e-02,\n",
      "           1.24526843e-01, -9.74567905e-02,  1.54136447e-02,\n",
      "          -1.31124869e-01, -6.28293157e-02,  1.21708252e-01,\n",
      "          -1.04375929e-01, -1.19594008e-01, -1.11445442e-01,\n",
      "          -8.10389519e-02, -7.74579644e-02,  2.01250636e-03,\n",
      "           6.01127781e-02,  1.55677333e-01]]]], dtype=float32), array([ 2.2294671e-06,  4.2471358e-05, -5.4547708e-03,  1.5563114e-06,\n",
      "       -6.6433415e-07,  2.8299133e-03,  2.1566586e-03, -4.8577817e-08,\n",
      "        1.3980215e-03,  8.0065263e-08, -2.2722747e-07,  3.1972476e-03,\n",
      "       -2.9149126e-07, -9.6878841e-07,  2.3481837e-03, -1.0547155e-03,\n",
      "        1.8678361e-03,  7.2792950e-03,  1.0075155e-06,  6.8125559e-04,\n",
      "        2.7312397e-03, -7.3314243e-07,  1.2336731e-03,  1.7810386e-03,\n",
      "        8.0281097e-08,  3.1570832e-03,  8.5770495e-07,  1.5610729e-03,\n",
      "        1.7273177e-03, -1.9975907e-06,  1.7543478e-03,  9.3097668e-07],\n",
      "      dtype=float32)]\n",
      "AFTER SET WEIGHTS: \n",
      "[array([[[[1., 1., 1., 1., 1., 1., 1., 1., 1., 1., 1., 1., 1., 1., 1.,\n",
      "          1., 1., 1., 1., 1., 1., 1., 1., 1., 1., 1., 1., 1., 1., 1.,\n",
      "          1., 1.]],\n",
      "\n",
      "        [[1., 1., 1., 1., 1., 1., 1., 1., 1., 1., 1., 1., 1., 1., 1.,\n",
      "          1., 1., 1., 1., 1., 1., 1., 1., 1., 1., 1., 1., 1., 1., 1.,\n",
      "          1., 1.]],\n",
      "\n",
      "        [[1., 1., 1., 1., 1., 1., 1., 1., 1., 1., 1., 1., 1., 1., 1.,\n",
      "          1., 1., 1., 1., 1., 1., 1., 1., 1., 1., 1., 1., 1., 1., 1.,\n",
      "          1., 1.]]],\n",
      "\n",
      "\n",
      "       [[[1., 1., 1., 1., 1., 1., 1., 1., 1., 1., 1., 1., 1., 1., 1.,\n",
      "          1., 1., 1., 1., 1., 1., 1., 1., 1., 1., 1., 1., 1., 1., 1.,\n",
      "          1., 1.]],\n",
      "\n",
      "        [[1., 1., 1., 1., 1., 1., 1., 1., 1., 1., 1., 1., 1., 1., 1.,\n",
      "          1., 1., 1., 1., 1., 1., 1., 1., 1., 1., 1., 1., 1., 1., 1.,\n",
      "          1., 1.]],\n",
      "\n",
      "        [[1., 1., 1., 1., 1., 1., 1., 1., 1., 1., 1., 1., 1., 1., 1.,\n",
      "          1., 1., 1., 1., 1., 1., 1., 1., 1., 1., 1., 1., 1., 1., 1.,\n",
      "          1., 1.]]],\n",
      "\n",
      "\n",
      "       [[[1., 1., 1., 1., 1., 1., 1., 1., 1., 1., 1., 1., 1., 1., 1.,\n",
      "          1., 1., 1., 1., 1., 1., 1., 1., 1., 1., 1., 1., 1., 1., 1.,\n",
      "          1., 1.]],\n",
      "\n",
      "        [[1., 1., 1., 1., 1., 1., 1., 1., 1., 1., 1., 1., 1., 1., 1.,\n",
      "          1., 1., 1., 1., 1., 1., 1., 1., 1., 1., 1., 1., 1., 1., 1.,\n",
      "          1., 1.]],\n",
      "\n",
      "        [[1., 1., 1., 1., 1., 1., 1., 1., 1., 1., 1., 1., 1., 1., 1.,\n",
      "          1., 1., 1., 1., 1., 1., 1., 1., 1., 1., 1., 1., 1., 1., 1.,\n",
      "          1., 1.]]]], dtype=float32), array([2., 2., 2., 2., 2., 2., 2., 2., 2., 2., 2., 2., 2., 2., 2., 2., 2.,\n",
      "       2., 2., 2., 2., 2., 2., 2., 2., 2., 2., 2., 2., 2., 2., 2.],\n",
      "      dtype=float32)]\n",
      "\n"
     ]
    }
   ],
   "source": [
    "# Now we can add these filters and biases\n",
    "# directly to our convolution layer.\n",
    "print('BEFORE SET WEIGHTS: \\n{}'.format(conv_layer_1.get_weights()))\n",
    "print(conv_layer_1.get_weights())\n",
    "conv_layer_1.set_weights(weights = layer_weights)\n",
    "print('AFTER SET WEIGHTS: \\n{}'.format(conv_layer_1.get_weights()))\n",
    "print()"
   ]
  },
  {
   "cell_type": "markdown",
   "metadata": {},
   "source": [
    "Wonderful! Now we can use our custom filters in the Keras API. Granted, if we know what filters we should use then it would be less computation time to just apply those filters first and then train-test on the resulting filtered images. However, just in case the filters need to change slightly, and in case we miss any, it is safer to just allow them to be trained through the Keras network, with excess random nodes being assigned to wild-card nodes. If we are confident with said filters, then we can take them and apply them to our images separately if we can assure that it will be less computation time to do so.\n",
    "\n",
    "The filters are generated in the \"Generating initial filters.ipynb\" file. Now, let us set up a similar custom network to see how they perform."
   ]
  },
  {
   "cell_type": "code",
   "execution_count": 13,
   "metadata": {},
   "outputs": [],
   "source": [
    "# Now building the custom model.\n",
    "model_cust = Sequential()\n",
    "# Padding = 'same' means that the edges\n",
    "# of the image are not clipped.\n",
    "cust_conv_layer_1 = Conv2D(32, kernel_size = (3, 3),  \n",
    "    activation = 'relu', input_shape = input_shape, name = 'cust_conv_layer_1', padding = 'same')\n",
    "model_cust.add(cust_conv_layer_1)\n",
    "cust_conv_layer_2 = Conv2D(64, kernel_size = (3, 3), activation = 'relu', name = 'cust_conv_layer_2', padding = 'same')\n",
    "model_cust.add(cust_conv_layer_2)\n",
    "# Pooling with size (2,2) taking 2 strides at a time\n",
    "# will half the size of the images.\n",
    "model_cust.add(MaxPooling2D(pool_size = (2, 2), strides = 2))\n",
    "# Dropout will randomly set node weights to 0\n",
    "# (thus preventing training) by the given rate.\n",
    "# This is to prevent overfitting of the data.\n",
    "model_cust.add(Dropout(rate = 0.25))\n",
    "# Flatten will take the input and flatten\n",
    "# its shape.\n",
    "model_cust.add(Flatten()) \n",
    "model_cust.add(Dense(128, activation = 'relu')) \n",
    "model_cust.add(Dropout(rate = 0.5)) \n",
    "model_cust.add(Dense(10, activation = 'softmax'))"
   ]
  },
  {
   "cell_type": "code",
   "execution_count": 14,
   "metadata": {},
   "outputs": [],
   "source": [
    "model_cust.compile(loss = keras.losses.categorical_crossentropy, \n",
    "   optimizer = tf.keras.optimizers.Adadelta(), metrics = ['accuracy'])"
   ]
  },
  {
   "cell_type": "code",
   "execution_count": 15,
   "metadata": {},
   "outputs": [],
   "source": [
    "# We can create custom weights in much the same\n",
    "# way as before. This time, we distinguish nodes\n",
    "# as producing images. This example is made for\n",
    "# the first hidden layer.\n",
    "file_path = os.getcwd()\n",
    "file_path += '\\\\Initial Filters\\\\test_1 - Copy'\n",
    "n_images_prev = 1\n",
    "n_images_now = 32\n",
    "kernel_size_x = 3\n",
    "kernel_size_y = 3\n",
    "\n",
    "empty_weights = np.zeros(shape = n_images_prev*n_images_now*kernel_size_x*kernel_size_y, dtype = 'object').reshape((kernel_size_x,kernel_size_y,n_images_prev,n_images_now))\n",
    "empty_biases = np.zeros(shape = n_images_now, dtype = 'object')\n",
    "\n",
    "for image_index_prev in range(0,n_images_prev):\n",
    "    for image_index_now in range(0,n_images_now):\n",
    "        # We open a kernel file here.\n",
    "        try:\n",
    "            weight_array = np.genfromtxt(file_path + \"\\\\filter_{}\".format(image_index_now))\n",
    "            empty_weights[:,:,image_index_prev,image_index_now] = weight_array.reshape((kernel_size_x,kernel_size_y)).transpose()\n",
    "        # If the file is not found, then just use a random kernel.\n",
    "        except OSError:\n",
    "            empty_weights[:,:,image_index_prev,image_index_now] = np.random.rand(kernel_size_x,kernel_size_y)\n",
    "        empty_biases[image_index_now] = 0\n",
    "        \n",
    "layer_weights = []\n",
    "layer_weights.append(empty_weights)\n",
    "layer_weights.append(empty_biases)\n",
    "cust_conv_layer_1.set_weights(weights = layer_weights)\n"
   ]
  },
  {
   "cell_type": "code",
   "execution_count": 16,
   "metadata": {},
   "outputs": [
    {
     "name": "stdout",
     "output_type": "stream",
     "text": [
      "Sample weight before: \n",
      "[[-1.e+00  1.e+00  1.e-06]\n",
      " [-1.e+00  1.e+00  1.e-06]\n",
      " [-1.e+00  1.e+00  1.e-06]]\n"
     ]
    },
    {
     "data": {
      "image/png": "[encoded data removed]",
      "text/plain": [
       "<Figure size 432x288 with 10 Axes>"
      ]
     },
     "metadata": {
      "needs_background": "light"
     },
     "output_type": "display_data"
    }
   ],
   "source": [
    "ccl1w = cust_conv_layer_1.get_weights()[0][:,:,0,:]\n",
    "print(\"Sample weight before: \\n{}\".format(ccl1w[:,:,1]))\n",
    "for i in range(1,10):\n",
    "    plt.subplot(3,3,i)\n",
    "    plt.imshow(ccl1w[:,:,i-1], cmap = \"coolwarm\")\n",
    "plt.colorbar()\n",
    "plt.show()"
   ]
  },
  {
   "cell_type": "code",
   "execution_count": 17,
   "metadata": {},
   "outputs": [
    {
     "name": "stdout",
     "output_type": "stream",
     "text": [
      "Epoch 1/12\n",
      "469/469 [==============================] - 46s 99ms/step - loss: 2.1669 - accuracy: 0.2322 - val_loss: 1.5756 - val_accuracy: 0.6642\n",
      "Epoch 2/12\n",
      "469/469 [==============================] - 46s 98ms/step - loss: 1.6457 - accuracy: 0.4460 - val_loss: 1.1576 - val_accuracy: 0.7871\n",
      "Epoch 3/12\n",
      "469/469 [==============================] - 49s 104ms/step - loss: 1.3333 - accuracy: 0.5712 - val_loss: 0.8793 - val_accuracy: 0.8286\n",
      "Epoch 4/12\n",
      "469/469 [==============================] - 48s 102ms/step - loss: 1.1236 - accuracy: 0.6428 - val_loss: 0.7093 - val_accuracy: 0.8513\n",
      "Epoch 5/12\n",
      "469/469 [==============================] - 47s 100ms/step - loss: 0.9781 - accuracy: 0.6912 - val_loss: 0.5988 - val_accuracy: 0.8700\n",
      "Epoch 6/12\n",
      "469/469 [==============================] - 47s 101ms/step - loss: 0.8696 - accuracy: 0.7254 - val_loss: 0.5234 - val_accuracy: 0.8825\n",
      "Epoch 7/12\n",
      "469/469 [==============================] - 45s 96ms/step - loss: 0.7940 - accuracy: 0.7469 - val_loss: 0.4716 - val_accuracy: 0.8894\n",
      "Epoch 8/12\n",
      "469/469 [==============================] - 45s 96ms/step - loss: 0.7287 - accuracy: 0.7696 - val_loss: 0.4323 - val_accuracy: 0.8950\n",
      "Epoch 9/12\n",
      "469/469 [==============================] - 45s 97ms/step - loss: 0.6894 - accuracy: 0.7825 - val_loss: 0.4021 - val_accuracy: 0.9009\n",
      "Epoch 10/12\n",
      "469/469 [==============================] - 47s 101ms/step - loss: 0.6484 - accuracy: 0.7960 - val_loss: 0.3789 - val_accuracy: 0.9044\n",
      "Epoch 11/12\n",
      "469/469 [==============================] - 48s 102ms/step - loss: 0.6170 - accuracy: 0.8078 - val_loss: 0.3584 - val_accuracy: 0.9095\n",
      "Epoch 12/12\n",
      "469/469 [==============================] - 48s 102ms/step - loss: 0.5889 - accuracy: 0.8164 - val_loss: 0.3418 - val_accuracy: 0.9123\n"
     ]
    },
    {
     "data": {
      "text/plain": [
       "<keras.callbacks.History at 0x210bfadca00>"
      ]
     },
     "execution_count": 17,
     "metadata": {},
     "output_type": "execute_result"
    }
   ],
   "source": [
    "model_cust.fit(\n",
    "    x_train, y_train, \n",
    "    batch_size = 128,\n",
    "    epochs = 12, \n",
    "    verbose = 1, \n",
    "    validation_data = (x_test, y_test)\n",
    ")"
   ]
  },
  {
   "cell_type": "code",
   "execution_count": 18,
   "metadata": {},
   "outputs": [
    {
     "name": "stdout",
     "output_type": "stream",
     "text": [
      "Sample weight after: \n",
      "[[-1.0005310e+00  1.0007367e+00  1.2582846e-03]\n",
      " [-1.0011433e+00  1.0001566e+00  7.4170635e-04]\n",
      " [-1.0006953e+00  1.0010740e+00  1.1854495e-03]]\n"
     ]
    },
    {
     "data": {
      "image/png": "[encoded data removed]",
      "text/plain": [
       "<Figure size 432x288 with 10 Axes>"
      ]
     },
     "metadata": {
      "needs_background": "light"
     },
     "output_type": "display_data"
    }
   ],
   "source": [
    "ccl1w = cust_conv_layer_1.get_weights()[0][:,:,0,:]\n",
    "print(\"Sample weight after: \\n{}\".format(ccl1w[:,:,1]))\n",
    "for i in range(1,10):\n",
    "    plt.subplot(3,3,i)\n",
    "    plt.imshow(ccl1w[:,:,i-1], cmap = \"coolwarm\")\n",
    "plt.colorbar()\n",
    "plt.show()"
   ]
  },
  {
   "cell_type": "markdown",
   "metadata": {},
   "source": [
    "So from this test, we can see that on average the custom filters again decrease the time needed for convergence (assuming this network will eventually converge to 100\\% train and validation accuracy). They also maintain their structure like in mini project 1. We can use these custom filters therefore to train on our previous image data from mini project 1, as well as try to describe transformations of said data."
   ]
  }
 ],
 "metadata": {
  "kernelspec": {
   "display_name": "Python 3",
   "language": "python",
   "name": "python3"
  },
  "language_info": {
   "codemirror_mode": {
    "name": "ipython",
    "version": 3
   },
   "file_extension": ".py",
   "mimetype": "text/x-python",
   "name": "python",
   "nbconvert_exporter": "python",
   "pygments_lexer": "ipython3",
   "version": "3.8.5"
  }
 },
 "nbformat": 4,
 "nbformat_minor": 4
}
