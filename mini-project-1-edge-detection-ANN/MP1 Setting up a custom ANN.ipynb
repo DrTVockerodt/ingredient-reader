{
 "cells": [
  {
   "cell_type": "markdown",
   "metadata": {},
   "source": [
    "# Mini Project 1: Setting up a custom ANN\n",
    "\n",
    "This whole mini project, which aims to answer some big questions about how we can control the state of ANNs, is predicated on the assumption that the python libraries that I have access to will allow me to customise the weights of the ANN. Typically, the weights are initialised randomly, but this decision is somewhat arbitrary and seems to be used due to the abstract nature of the process. However, in some situations, such as edge detection, we have a good intuition on what the weights should look like, which is described in detail in the PDF report surrounding this project. Luckily, I found that Keras layers do have methods to set the weights, which means we should be able to use that to use our custom weights generated from our MS Paint generated image files."
   ]
  },
  {
   "cell_type": "code",
   "execution_count": 1,
   "metadata": {},
   "outputs": [
    {
     "name": "stdout",
     "output_type": "stream",
     "text": [
      "input_layer []\n",
      "hidden_layer_1 [array([[ 0.5226927 , -1.0326635 ,  0.68899286,  1.0258915 ]],\n",
      "      dtype=float32), array([0., 0., 0., 0.], dtype=float32)]\n",
      "output_layer [array([[-0.5820866 ],\n",
      "       [-0.71835804],\n",
      "       [-0.4654354 ],\n",
      "       [ 0.9638543 ]], dtype=float32), array([0.], dtype=float32)]\n"
     ]
    }
   ],
   "source": [
    "# Testing some basic weight reading for some dummy data,\n",
    "# following a similar method from the website\n",
    "# https://www.codespeedy.com/get_weights-and-set_weights-functions-in-keras-layers/\n",
    "import tensorflow as tf\n",
    "import keras\n",
    "from keras import Input, Model\n",
    "from keras.models import Sequential\n",
    "from keras.layers import Dense, Activation\n",
    "import numpy as np\n",
    "import matplotlib.pyplot as plt\n",
    "%matplotlib inline\n",
    "\n",
    "# Creating a dummy neural network. The specific\n",
    "# activations, loss and optimizer do not matter\n",
    "# here as we are just trying to see how we can\n",
    "# access the weights. This dummy network would\n",
    "# be suitable for regression problems, according\n",
    "# to the source.\n",
    "# In this case, we have an input layer of 1 node,\n",
    "# a hidden layer of 4 nodes, and a single output layer of 1.\n",
    "input_layer = Input(shape = (1,), name = 'input_layer')\n",
    "hidden_layer_1 = Dense(units = 4, activation = 'linear', name = 'hidden_layer_1')(input_layer)\n",
    "output_layer = Dense(units = 1, activation = 'linear', name = 'output_layer')(hidden_layer_1)\n",
    "model = Model(inputs = input_layer, outputs = output_layer)\n",
    "model.compile(optimizer = 'sgd', loss = 'mse', metrics = ['mse'])\n",
    "\n",
    "# We can use the model.layers attribute\n",
    "# in order to access the layers we have created.\n",
    "for layer in model.layers:\n",
    "    print(layer.name, layer.get_weights())"
   ]
  },
  {
   "cell_type": "markdown",
   "metadata": {},
   "source": [
    "From the Keras documentation (https://keras.io/api/layers/), the result of a get_weights() call is two numpy arrays. The first are the weights linking in to the nodes in the layer, and the second are the biases. When using set_weights(), the weights must be of a similar format. When we printed out the results for the input_layer, we can see that there are no weights or biases due to it being an input layer. The course I am doing to help with my python skills wrt ANNs is not treating the input layers as input layers, but rather is treating them like another hidden layer. This creates an implicit input layer that is not actually the input layer. The method I have found above treats the input layer like an input layer correctly. I will also investigate other methods to do this within the Sequential() class.\n",
    "\n",
    "Let us test this ANN on some trivial data, both with set_weights() usage and without."
   ]
  },
  {
   "cell_type": "code",
   "execution_count": 2,
   "metadata": {},
   "outputs": [
    {
     "name": "stdout",
     "output_type": "stream",
     "text": [
      "Epoch 1/25\n",
      "100/100 [==============================] - 3s 1ms/step - loss: 0.3529 - mse: 0.3529\n",
      "Epoch 2/25\n",
      "100/100 [==============================] - 0s 1ms/step - loss: 0.1417 - mse: 0.1417\n",
      "Epoch 3/25\n",
      "100/100 [==============================] - 0s 2ms/step - loss: 0.1519 - mse: 0.1519\n",
      "Epoch 4/25\n",
      "100/100 [==============================] - 0s 2ms/step - loss: 0.1445 - mse: 0.1445\n",
      "Epoch 5/25\n",
      "100/100 [==============================] - 0s 2ms/step - loss: 0.1593 - mse: 0.1593\n",
      "Epoch 6/25\n",
      "100/100 [==============================] - 0s 2ms/step - loss: 0.1456 - mse: 0.1456\n",
      "Epoch 7/25\n",
      "100/100 [==============================] - 0s 2ms/step - loss: 0.1448 - mse: 0.1448\n",
      "Epoch 8/25\n",
      "100/100 [==============================] - 0s 2ms/step - loss: 0.1356 - mse: 0.1356\n",
      "Epoch 9/25\n",
      "100/100 [==============================] - 0s 2ms/step - loss: 0.1511 - mse: 0.1511\n",
      "Epoch 10/25\n",
      "100/100 [==============================] - 0s 2ms/step - loss: 0.1450 - mse: 0.1450\n",
      "Epoch 11/25\n",
      "100/100 [==============================] - 0s 2ms/step - loss: 0.1436 - mse: 0.1436\n",
      "Epoch 12/25\n",
      "100/100 [==============================] - 0s 2ms/step - loss: 0.1525 - mse: 0.1525\n",
      "Epoch 13/25\n",
      "100/100 [==============================] - 0s 2ms/step - loss: 0.1441 - mse: 0.1441\n",
      "Epoch 14/25\n",
      "100/100 [==============================] - 0s 2ms/step - loss: 0.1479 - mse: 0.1479\n",
      "Epoch 15/25\n",
      "100/100 [==============================] - 0s 2ms/step - loss: 0.1523 - mse: 0.1523\n",
      "Epoch 16/25\n",
      "100/100 [==============================] - 0s 2ms/step - loss: 0.1401 - mse: 0.1401\n",
      "Epoch 17/25\n",
      "100/100 [==============================] - 0s 2ms/step - loss: 0.1438 - mse: 0.1438\n",
      "Epoch 18/25\n",
      "100/100 [==============================] - 0s 2ms/step - loss: 0.1326 - mse: 0.1326\n",
      "Epoch 19/25\n",
      "100/100 [==============================] - 0s 2ms/step - loss: 0.1509 - mse: 0.1509\n",
      "Epoch 20/25\n",
      "100/100 [==============================] - 0s 2ms/step - loss: 0.1454 - mse: 0.1454\n",
      "Epoch 21/25\n",
      "100/100 [==============================] - 0s 2ms/step - loss: 0.1314 - mse: 0.1314\n",
      "Epoch 22/25\n",
      "100/100 [==============================] - 0s 2ms/step - loss: 0.1426 - mse: 0.1426\n",
      "Epoch 23/25\n",
      "100/100 [==============================] - 0s 2ms/step - loss: 0.1483 - mse: 0.1483\n",
      "Epoch 24/25\n",
      "100/100 [==============================] - 0s 1ms/step - loss: 0.1437 - mse: 0.1437\n",
      "Epoch 25/25\n",
      "100/100 [==============================] - 0s 1ms/step - loss: 0.1395 - mse: 0.1395  \n"
     ]
    },
    {
     "data": {
      "text/plain": [
       "<keras.callbacks.History at 0x1d08bbb7580>"
      ]
     },
     "execution_count": 2,
     "metadata": {},
     "output_type": "execute_result"
    }
   ],
   "source": [
    "X = np.random.randn(100)\n",
    "y = 3*X + np.random.randn(100)*0.4\n",
    "\n",
    "model.fit(X,y,batch_size = 1, epochs = 25)"
   ]
  },
  {
   "cell_type": "code",
   "execution_count": 3,
   "metadata": {},
   "outputs": [
    {
     "data": {
      "text/plain": [
       "[<matplotlib.lines.Line2D at 0x1d08bda1700>,\n",
       " <matplotlib.lines.Line2D at 0x1d08bda1100>]"
      ]
     },
     "execution_count": 3,
     "metadata": {},
     "output_type": "execute_result"
    },
    {
     "data": {
      "image/png": "[encoded data removed]",
      "text/plain": [
       "<Figure size 576x576 with 1 Axes>"
      ]
     },
     "metadata": {
      "needs_background": "light"
     },
     "output_type": "display_data"
    }
   ],
   "source": [
    "# Showing the predictions.\n",
    "plt.figure(figsize = (8,8))\n",
    "y_pred = model.predict(X)\n",
    "plt.plot(X,y,'o',X,y_pred,'y')"
   ]
  },
  {
   "cell_type": "markdown",
   "metadata": {},
   "source": [
    "As we can see, the model fits well! Now we will setup the network again, and set the weights to the weights after this fitting. This is obviously not what we would do in practice, we would just run fit() again if we wanted to keep using the same weights. Our goal here is to take this simple example and practice using the set_weights() method."
   ]
  },
  {
   "cell_type": "code",
   "execution_count": 4,
   "metadata": {},
   "outputs": [
    {
     "name": "stdout",
     "output_type": "stream",
     "text": [
      "input_layer []\n",
      "hidden_layer_1 [array([[ 0.2942061, -1.3058017,  0.5048678,  1.3942683]], dtype=float32), array([ 0.0163159 , -0.01749915,  0.01912631,  0.01541089], dtype=float32)]\n",
      "output_layer [array([[-0.34636325],\n",
      "       [-1.04142   ],\n",
      "       [-0.17775987],\n",
      "       [ 1.2656941 ]], dtype=float32), array([-0.01216106], dtype=float32)]\n",
      "\n",
      "\n",
      "input_layer []\n",
      "hidden_layer_1 [array([[ 0.2942061, -1.3058017,  0.5048678,  1.3942683]], dtype=float32), array([ 0.0163159 , -0.01749915,  0.01912631,  0.01541089], dtype=float32)]\n",
      "output_layer [array([[-0.34636325],\n",
      "       [-1.04142   ],\n",
      "       [-0.17775987],\n",
      "       [ 1.2656941 ]], dtype=float32), array([-0.01216106], dtype=float32)]\n"
     ]
    }
   ],
   "source": [
    "# Getting the weights after the fit so\n",
    "# we can practice using set_weights().\n",
    "weights_to_set = {}\n",
    "for layer in model.layers:\n",
    "    print(layer.name, layer.get_weights())\n",
    "    weights_to_set[layer.name] = layer.get_weights()\n",
    "\n",
    "input_layer = Input(shape = (1,), name = 'input_layer')\n",
    "hidden_layer_1 = Dense(units = 4, activation = 'linear', name = 'hidden_layer_1')(input_layer)\n",
    "output_layer = Dense(units = 1, activation = 'linear', name = 'output_layer')(hidden_layer_1)\n",
    "model_2 = Model(inputs = input_layer, outputs = output_layer)\n",
    "model_2.compile(optimizer = 'sgd', loss = 'mse', metrics = ['mse'])\n",
    "\n",
    "print('\\n')\n",
    "for layer in model_2.layers:\n",
    "    layer.set_weights(weights_to_set[layer.name])\n",
    "    print(layer.name, layer.get_weights())\n"
   ]
  },
  {
   "cell_type": "code",
   "execution_count": 5,
   "metadata": {},
   "outputs": [
    {
     "name": "stdout",
     "output_type": "stream",
     "text": [
      "Epoch 1/25\n",
      "100/100 [==============================] - 1s 1ms/step - loss: 0.1413 - mse: 0.1413\n",
      "Epoch 2/25\n",
      "100/100 [==============================] - 0s 1ms/step - loss: 0.1491 - mse: 0.1491\n",
      "Epoch 3/25\n",
      "100/100 [==============================] - 0s 1ms/step - loss: 0.1503 - mse: 0.1503\n",
      "Epoch 4/25\n",
      "100/100 [==============================] - 0s 1ms/step - loss: 0.1398 - mse: 0.1398\n",
      "Epoch 5/25\n",
      "100/100 [==============================] - 0s 1ms/step - loss: 0.1441 - mse: 0.1441\n",
      "Epoch 6/25\n",
      "100/100 [==============================] - 0s 1ms/step - loss: 0.1480 - mse: 0.1480\n",
      "Epoch 7/25\n",
      "100/100 [==============================] - ETA: 0s - loss: 0.1297 - mse: 0.129 - 0s 1ms/step - loss: 0.1417 - mse: 0.1417\n",
      "Epoch 8/25\n",
      "100/100 [==============================] - 0s 1ms/step - loss: 0.1416 - mse: 0.1416\n",
      "Epoch 9/25\n",
      "100/100 [==============================] - 0s 1ms/step - loss: 0.1429 - mse: 0.1429\n",
      "Epoch 10/25\n",
      "100/100 [==============================] - 0s 1ms/step - loss: 0.1405 - mse: 0.1405  \n",
      "Epoch 11/25\n",
      "100/100 [==============================] - 0s 1ms/step - loss: 0.1446 - mse: 0.1446\n",
      "Epoch 12/25\n",
      "100/100 [==============================] - 0s 1ms/step - loss: 0.1432 - mse: 0.1432\n",
      "Epoch 13/25\n",
      "100/100 [==============================] - 0s 1ms/step - loss: 0.1462 - mse: 0.1462\n",
      "Epoch 14/25\n",
      "100/100 [==============================] - 0s 1ms/step - loss: 0.1426 - mse: 0.1426\n",
      "Epoch 15/25\n",
      "100/100 [==============================] - 0s 1ms/step - loss: 0.1464 - mse: 0.1464\n",
      "Epoch 16/25\n",
      "100/100 [==============================] - 0s 1ms/step - loss: 0.1523 - mse: 0.1523\n",
      "Epoch 17/25\n",
      "100/100 [==============================] - 0s 1ms/step - loss: 0.1473 - mse: 0.1473\n",
      "Epoch 18/25\n",
      "100/100 [==============================] - 0s 1ms/step - loss: 0.1393 - mse: 0.1393\n",
      "Epoch 19/25\n",
      "100/100 [==============================] - 0s 1ms/step - loss: 0.1383 - mse: 0.1383\n",
      "Epoch 20/25\n",
      "100/100 [==============================] - 0s 1ms/step - loss: 0.1477 - mse: 0.1477\n",
      "Epoch 21/25\n",
      "100/100 [==============================] - 0s 1ms/step - loss: 0.1416 - mse: 0.1416\n",
      "Epoch 22/25\n",
      "100/100 [==============================] - 0s 1ms/step - loss: 0.1506 - mse: 0.1506\n",
      "Epoch 23/25\n",
      "100/100 [==============================] - 0s 1ms/step - loss: 0.1436 - mse: 0.1436\n",
      "Epoch 24/25\n",
      "100/100 [==============================] - 0s 1ms/step - loss: 0.1407 - mse: 0.1407\n",
      "Epoch 25/25\n",
      "100/100 [==============================] - 0s 1ms/step - loss: 0.1506 - mse: 0.1506\n"
     ]
    },
    {
     "data": {
      "text/plain": [
       "<keras.callbacks.History at 0x1d08d052100>"
      ]
     },
     "execution_count": 5,
     "metadata": {},
     "output_type": "execute_result"
    }
   ],
   "source": [
    "model_2.fit(X,y,batch_size = 1, epochs = 25)"
   ]
  },
  {
   "cell_type": "code",
   "execution_count": 6,
   "metadata": {},
   "outputs": [
    {
     "data": {
      "text/plain": [
       "[<matplotlib.lines.Line2D at 0x1d08bd4ffa0>,\n",
       " <matplotlib.lines.Line2D at 0x1d08d058550>,\n",
       " <matplotlib.lines.Line2D at 0x1d08d1a15b0>]"
      ]
     },
     "execution_count": 6,
     "metadata": {},
     "output_type": "execute_result"
    },
    {
     "data": {
      "image/png": "[encoded data removed]",
      "text/plain": [
       "<Figure size 576x576 with 1 Axes>"
      ]
     },
     "metadata": {
      "needs_background": "light"
     },
     "output_type": "display_data"
    }
   ],
   "source": [
    "# Showing the predictions.\n",
    "plt.figure(figsize = (8,8))\n",
    "y_pred2 = model_2.predict(X)\n",
    "plt.plot(X,y,'o',X,y_pred,'y', X,y_pred2,'b')"
   ]
  },
  {
   "cell_type": "markdown",
   "metadata": {},
   "source": [
    "So far so good, we have produced a new line in blue, and the loss remains low as expected. The way I have constructed the models is different to the python course I am taking, but we can produce code that does the same thing in the same kind of style."
   ]
  },
  {
   "cell_type": "code",
   "execution_count": 7,
   "metadata": {},
   "outputs": [
    {
     "name": "stdout",
     "output_type": "stream",
     "text": [
      "Model: \"model_2\"\n",
      "_________________________________________________________________\n",
      "Layer (type)                 Output Shape              Param #   \n",
      "=================================================================\n",
      "input_layer (InputLayer)     [(None, 1)]               0         \n",
      "_________________________________________________________________\n",
      "hidden_layer_1 (Dense)       (None, 4)                 8         \n",
      "_________________________________________________________________\n",
      "output_layer (Dense)         (None, 1)                 5         \n",
      "=================================================================\n",
      "Total params: 13\n",
      "Trainable params: 13\n",
      "Non-trainable params: 0\n",
      "_________________________________________________________________\n",
      "\n",
      "\n",
      "Model: \"sequential\"\n",
      "_________________________________________________________________\n",
      "Layer (type)                 Output Shape              Param #   \n",
      "=================================================================\n",
      "hidden_layer_1 (Dense)       (None, 4)                 8         \n",
      "_________________________________________________________________\n",
      "output_layer (Dense)         (None, 1)                 5         \n",
      "=================================================================\n",
      "Total params: 13\n",
      "Trainable params: 13\n",
      "Non-trainable params: 0\n",
      "_________________________________________________________________\n",
      "\n",
      "\n",
      "Model: \"sequential_1\"\n",
      "_________________________________________________________________\n",
      "Layer (type)                 Output Shape              Param #   \n",
      "=================================================================\n",
      "hidden_layer_1 (Dense)       (None, 4)                 8         \n",
      "_________________________________________________________________\n",
      "output_layer (Dense)         (None, 1)                 5         \n",
      "=================================================================\n",
      "Total params: 13\n",
      "Trainable params: 13\n",
      "Non-trainable params: 0\n",
      "_________________________________________________________________\n",
      "\n",
      "\n"
     ]
    }
   ],
   "source": [
    "# These are all equivalent ways of building the ANN that we want.\n",
    "input_layer = Input(shape = (1,), name = 'input_layer')\n",
    "hidden_layer_1 = Dense(units = 4, activation = 'linear', name = 'hidden_layer_1')(input_layer)\n",
    "output_layer = Dense(units = 1, activation = 'linear', name = 'output_layer')(hidden_layer_1)\n",
    "model_3 = Model(inputs = input_layer, outputs = output_layer)\n",
    "model_3.compile(optimizer = 'sgd', loss = 'mse', metrics = ['mse'])\n",
    "\n",
    "model_3.summary()\n",
    "print('\\n')\n",
    "\n",
    "model_4 = Sequential()\n",
    "model_4.add(Input(shape = (1,), name = 'input_layer'))\n",
    "model_4.add(Dense(units = 4, activation = 'linear', name = 'hidden_layer_1'))\n",
    "model_4.add(Dense(units = 1, activation = 'linear', name = 'output_layer'))\n",
    "model_4.compile(optimizer = 'sgd', loss = 'mse', metrics = ['mse'])\n",
    "\n",
    "model_4.summary()\n",
    "print('\\n')\n",
    "\n",
    "\n",
    "# This last one is more typically used.\n",
    "model_5 = Sequential()\n",
    "model_5.add(Dense(units = 4, input_dim = 1, activation = 'linear', name = 'hidden_layer_1'))\n",
    "model_5.add(Dense(units = 1, activation = 'linear', name = 'output_layer'))\n",
    "model_5.compile(optimizer = 'sgd', loss = 'mse', metrics = ['mse'])\n",
    "\n",
    "model_5.summary()\n",
    "print('\\n')\n",
    "\n",
    "del model_3, model_4, model_5"
   ]
  },
  {
   "cell_type": "markdown",
   "metadata": {},
   "source": [
    "### Considering scalability\n",
    "\n",
    "There is one forseeable flaw with using the set_weights() method for our plans in particular. Using image sizes of 60x60 square pixels, if we were to gather all of the weights in the first hidden layer at once, this could result in a large object having to be stored. Ideally, we would like to go into each individual node of a layer, and then update the weights of that individal node. That way, we can specialise the nodes as we intend to.\n",
    "\n",
    "After some investigation, we can see that the weights of a layer are Tensorflow objects."
   ]
  },
  {
   "cell_type": "code",
   "execution_count": 8,
   "metadata": {},
   "outputs": [
    {
     "name": "stdout",
     "output_type": "stream",
     "text": [
      "<class 'tensorflow.python.ops.resource_variable_ops.ResourceVariable'> <tf.Variable 'hidden_layer_1/kernel:0' shape=(1, 4) dtype=float32, numpy=array([[ 0.2942061, -1.3058017,  0.5048678,  1.3942683]], dtype=float32)>\n"
     ]
    }
   ],
   "source": [
    "for layer in model.layers:\n",
    "    for weight in layer.weights:\n",
    "        if weight.name == 'hidden_layer_1/kernel:0':\n",
    "            print(type(weight), weight)"
   ]
  },
  {
   "cell_type": "markdown",
   "metadata": {},
   "source": [
    "If the weights were tensorflow.Variable() objects, then we could use a whole host of method calls and slicing in order to adjust them. For tf.Variable() objects, regular python slicing via [start:end+1] will work to select the elements we wish to alter, and the .assign() method call will allow us to replace the slice values with our individual arrays. However, for ResourceVariable() objects, we cannot achieve this due to the differences between the classes.\n",
    "\n",
    "For example, if we slice the weights, what we would expect is an output where the numpy attribute (which interestingly is a method and thus needs to be called using .numpy()) is sliced, since that is the only part of the object where slicing has reasonable meaning. The [0]th element of the weights can be accessed and is a tf.Tensor object."
   ]
  },
  {
   "cell_type": "code",
   "execution_count": 9,
   "metadata": {},
   "outputs": [
    {
     "name": "stdout",
     "output_type": "stream",
     "text": [
      "tf.Tensor([[ 0.2942061 -1.3058017  0.5048678  1.3942683]], shape=(1, 4), dtype=float32) \n",
      " tf.Tensor([ 0.2942061 -1.3058017], shape=(2,), dtype=float32)\n"
     ]
    }
   ],
   "source": [
    "for layer in model.layers:\n",
    "    for weight in layer.weights:\n",
    "        if weight.name == 'hidden_layer_1/kernel:0':\n",
    "            print(weight[0:2], '\\n', weight[0][0:2])"
   ]
  },
  {
   "cell_type": "markdown",
   "metadata": {},
   "source": [
    "Subscripting the weight once leads to a tf.Tensor() object, which looks like it can be operated on using .assign() methods! Except that the .assign() method is not present for tf.Tensor objects! We cannot even cast the weights into a tf.Variable() in order to apply .assign() method calls since even pythonic assignment is not allowed."
   ]
  },
  {
   "cell_type": "code",
   "execution_count": 10,
   "metadata": {},
   "outputs": [
    {
     "name": "stdout",
     "output_type": "stream",
     "text": [
      "Traceback (most recent call last):\n",
      "  File \"<ipython-input-10-f086e231cbbe>\", line 7, in <module>\n",
      "    weight[0][0:2] = tf.Variable(initial_value = np.array([1,2]), dtype = 'float32', shape = (2,))\n",
      "TypeError: 'tensorflow.python.framework.ops.EagerTensor' object does not support item assignment\n",
      "\n"
     ]
    }
   ],
   "source": [
    "import traceback as tb\n",
    "\n",
    "try:\n",
    "    for layer in model.layers:\n",
    "        for weight in layer.weights:\n",
    "            if weight.name == 'hidden_layer_1/kernel:0':\n",
    "                weight[0][0:2] = tf.Variable(initial_value = np.array([1,2]), dtype = 'float32', shape = (2,))\n",
    "                print(weight[0])\n",
    "except TypeError:\n",
    "    print(tb.format_exc())"
   ]
  },
  {
   "cell_type": "markdown",
   "metadata": {},
   "source": [
    "Ultimately, this means that slicing and assigning to our Tensor or EagerTensor is forbidden in the current tensorflow framework. The weights would have to be assigned to the Tensor on creation of the ANN, which means we cannot use the high level Keras library functions to create the network if we want to avoid this potential memory issue. For the images I have planned, it does not look like the memory would be a problem, which is good. However, there are other problems with relying on Keras built models such as the use of optimisation algorithms that do not back-propagate accurately.\n",
    "\n",
    "Since I am an ambitious programmer, I am tempted to create (with the help of the internet of course) my own network class, that uses TensorFlow functions and methods only, in order to create the network. Since we are only considering (for now) a dense, feed forward network, this will be easier to code.\n",
    "\n",
    "Let us try making our own network by cutting out the Keras dependencies, and solely using Tensorflow. We will be closely following the method from https://medium.com/analytics-vidhya/how-to-write-a-neural-network-in-tensorflow-from-scratch-without-using-keras-e056bb143d78. We have used the same activation functions that we do for the linear example, but we have tried to make the DenseANN class general unlike the example above."
   ]
  },
  {
   "cell_type": "code",
   "execution_count": 11,
   "metadata": {},
   "outputs": [],
   "source": [
    "class DenseANN():\n",
    "    '''\n",
    "    An ANN that deals with the example of fitting\n",
    "    a regression line to y = 3x + r(x), where r(x)\n",
    "    is random noise.\n",
    "    '''\n",
    "    \n",
    "    def __init__(self,layer_node_dict):\n",
    "        '''\n",
    "        Initialises the network. layer_nodes_dict\n",
    "        should have keys corresponding to the ordered\n",
    "        number of the layer, and a value corresponding to\n",
    "        the number of nodes in said layer. A value\n",
    "        of 0 should be used for the input layer.\n",
    "        '''\n",
    "\n",
    "        # Gives the _w_eights and _b_iases for a node\n",
    "        # n in layer l.\n",
    "        self.wb = {}\n",
    "        # Copy of the layer nodes dictionary.\n",
    "        self.lnd = layer_node_dict\n",
    "        # Needed for applying backpropagation.\n",
    "        self.params = []\n",
    "        for layer in layer_node_dict.keys():\n",
    "            # Assigning weights per node.\n",
    "            if layer > 0:\n",
    "                self.wb[layer] = {}\n",
    "                self.wb[layer]['w'] = []\n",
    "                self.wb[layer]['b'] = []\n",
    "                # Fetching the number of nodes\n",
    "                # in the previous layer.\n",
    "                n_nodes_prev = layer_node_dict[layer - 1]\n",
    "                n_nodes_now = layer_node_dict[layer]\n",
    "\n",
    "                # Now we set numpy arrays to the weights.\n",
    "                # These will be cocatenated later into \n",
    "                # tf.Variable tensors, this is just a way\n",
    "                # of organsing them.\n",
    "                # For the hidden layers, weight tensors in Keras\n",
    "                # are of the shape (n_nodes_prev,n_nodes_now), so\n",
    "                # we transpose the weights.\n",
    "                for node in range(0,n_nodes_now):\n",
    "                    self.wb[layer]['w'].append(np.random.rand(n_nodes_prev))\n",
    "                # Now appending the biases.\n",
    "                self.wb[layer]['b'].append(np.zeros(n_nodes_now))\n",
    "                # Now casting the weights into tf.Variables.\n",
    "                name_string = 'L' + str(layer)\n",
    "                self.wb[layer]['w'] = tf.Variable(initial_value = np.array(self.wb[layer]['w']).transpose(),\n",
    "                name = name_string + 'W', dtype = tf.float32, trainable = True)\n",
    "                self.wb[layer]['b'] = tf.Variable(initial_value = np.array(self.wb[layer]['b']),\n",
    "                name = name_string + 'B', dtype = tf.float32, trainable = True)\n",
    "                self.params.append(self.wb[layer]['w'])\n",
    "                self.params.append(self.wb[layer]['b'])\n",
    "                \n",
    "    def __str__(self):\n",
    "        '''\n",
    "        String method for printing out the network\n",
    "        weights and biases.\n",
    "        '''\n",
    "        space_param = 5\n",
    "        intro_string = 'Index' + space_param*' '\n",
    "        intro_string += 'Type' + space_param*' '\n",
    "        intro_string += 'n_nodes' + space_param*' '\n",
    "        intro_string += 'n_weights' + space_param*' '\n",
    "        intro_string += 'n_biases' + space_param*' '\n",
    "        intro_string += 'n_params' + space_param*' '\n",
    "        print(intro_string)\n",
    "        for layer in self.lnd.keys():\n",
    "            # Deciding the layer type based on the index.\n",
    "            if layer == 0:\n",
    "                l_type_string = 'Input'\n",
    "            elif layer == list(self.lnd.keys())[-1]:\n",
    "                l_type_string = 'Output'\n",
    "            else:\n",
    "                l_type_string = 'Hidden'\n",
    "                \n",
    "            # Calculating no. of nodes, weights, biases, params.\n",
    "            n_nodes = lnd[layer]\n",
    "            if layer > 0:\n",
    "                n_weights = np.size(self.wb[layer]['w'])\n",
    "                n_biases = np.size(self.wb[layer]['b'])\n",
    "                n_params = n_weights + n_biases\n",
    "            else:\n",
    "                n_weights = 0\n",
    "                n_biases = 0\n",
    "                n_params = 0\n",
    "\n",
    "            # Printing the formatted string.\n",
    "            string_var = str(layer) + (len('Index') - len(str(layer)) + space_param)*' '\n",
    "            string_var += l_type_string + (len('Type') - len(l_type_string) + space_param)*' '\n",
    "            string_var += str(n_nodes) + (len('n_nodes') - len(str(n_nodes)) + space_param)*' '\n",
    "            string_var += str(n_weights) + (len('n_weights') - len(str(n_weights)) + space_param)*' '\n",
    "            string_var += str(n_biases) + (len('n_biases') - len(str(n_biases)) + space_param)*' '\n",
    "            string_var += str(n_params) + (len('n_params') - len(str(n_params)) + space_param)*' '\n",
    "            print(string_var)\n",
    "        return ''\n",
    "    \n",
    "    def forward(self, X, params = None):\n",
    "        '''\n",
    "        Propagates input x through the feed forward network\n",
    "        using matmul. Returns the logits.\n",
    "        \n",
    "        X must be of size equal to the batch size, multiplied by\n",
    "        the no. nodes in the input layer. The X input should\n",
    "        be indexed like (n_batch, n_input), where n_batch is the\n",
    "        batch number, and n_input is the number of the corresponding\n",
    "        input node.\n",
    "        '''\n",
    "        logit_list = []\n",
    "        if(params == None):\n",
    "            params = self.params\n",
    "        if(np.shape(X) == ()):\n",
    "            X = [X]\n",
    "\n",
    "        for x_val in X:\n",
    "            # Initially Z = x.\n",
    "            if(np.shape(x_val) == ()):\n",
    "                x_val = [x_val]\n",
    "            Z = tf.cast(x_val, dtype = tf.float32)\n",
    "            \n",
    "            # In case the tensor Z has the shape (n,),\n",
    "            # we can cast it into a form that works.\n",
    "            if np.shape(Z) != (1,np.size(Z)):\n",
    "                shape_val = np.shape(Z)[0]\n",
    "                Z = tf.reshape(tensor = Z, shape = (1,shape_val))\n",
    "\n",
    "            for layer in list(self.lnd.keys())[1:]:\n",
    "                # self.wb[layer]['w'] == self.params[params_index]\n",
    "                # self.wb[layer]['b'] == self.params[params_index + 1]\n",
    "                params_index = 2*(layer - 1)\n",
    "                Z = tf.matmul(Z, params[params_index]) + params[params_index + 1]\n",
    "                if layer == list(self.lnd.keys())[-1]:\n",
    "                    logit_list.append(Z)\n",
    "                # If we like, we can add an activation\n",
    "                # function e.g.: Z = tf.nn.relu(Z).\n",
    "                # In this case however, we will keep it\n",
    "                # to a linear activation in order to match\n",
    "                # the problem.\n",
    "\n",
    "        return logit_list\n",
    "    \n",
    "    def loss(self, y_true , logits):\n",
    "        '''\n",
    "        MSE Loss function that takes the logits calculated in\n",
    "        the foward() method call, and contrasts with the\n",
    "        true y values.\n",
    "        \n",
    "        The y and logits input should be indexed like (n_batch, n_output),\n",
    "        where n_batch is the batch number, and n_output is the number\n",
    "        of the corresponding output node.\n",
    "        '''\n",
    "        # Reshaping the true outputs and the given logits.\n",
    "        n_val = len(y_true)\n",
    "        y_true_tf = tf.cast(tf.reshape(y_true, (-1, 1)), dtype=tf.float32)\n",
    "        logits_tf = tf.cast(tf.reshape(logits, (-1, 1)), dtype=tf.float32)\n",
    "\n",
    "        return tf.compat.v1.losses.mean_squared_error(y_true_tf,logits_tf)\n",
    "    \n",
    "    def backward(self, X, y, l_rate = 1e-2):\n",
    "        '''\n",
    "        Backpropagation. Uses the .forward() and .loss() methods above.\n",
    "        This corresponds to an epoch of an ANN model.\n",
    "        \n",
    "        X must be of size equal to the batch size, multiplied by\n",
    "        the no. nodes in the input layer. The X input should\n",
    "        be indexed like (n_batch, n_input), where n_batch is the\n",
    "        batch number, and n_input is the number of the corresponding\n",
    "        input node.\n",
    "        \n",
    "        The y input should be indexed like (n_batch, n_output),\n",
    "        where n_batch is the batch number, and n_output is the number\n",
    "        of the corresponding output node.\n",
    "        '''\n",
    "        optimizer = tf.compat.v1.train.GradientDescentOptimizer(learning_rate=l_rate)\n",
    "        with tf.GradientTape() as tape:\n",
    "            current_logits = self.forward(X = X)\n",
    "            current_loss = self.loss(y_true = y, logits = current_logits)\n",
    "        grads = tape.gradient(target = current_loss,\n",
    "                              sources = self.params,\n",
    "                              unconnected_gradients = 'zero')\n",
    "        optimizer.apply_gradients(zip(grads, self.params),\n",
    "                                  global_step=tf.compat.v1.train.get_or_create_global_step())\n",
    "        \n",
    "    def train(self, X, y_true, l_rate = 1e-2, epochs = 25):\n",
    "        '''\n",
    "        Trains the network on the given no. of epochs.\n",
    "        \n",
    "        X must be of size equal to the batch size, multiplied by\n",
    "        the no. nodes in the input layer. The X input should\n",
    "        be indexed like (n_batch, n_input), where n_batch is the\n",
    "        batch number, and n_input is the number of the corresponding\n",
    "        input node.\n",
    "        \n",
    "        The y input should be indexed like (n_batch, n_output),\n",
    "        where n_batch is the batch number, and n_output is the number\n",
    "        of the corresponding output node.\n",
    "        '''\n",
    "        for epoch in range(0,epochs):\n",
    "            self.backward(X = X, y = y_true, l_rate = l_rate)\n",
    "            loss_temp = self.loss(y_true = y_true, logits = self.forward(X = X))\n",
    "            print('Epoch: {}/{}: Loss (mse) = {}'.format(epoch + 1, epochs, loss_temp))\n",
    "            \n",
    "    def predict(self, X):\n",
    "        '''\n",
    "        Returns prediction values.\n",
    "        \n",
    "        X must be of size equal to the batch size, multiplied by\n",
    "        the no. nodes in the input layer. The X input should\n",
    "        be indexed like (n_batch, n_input), where n_batch is the\n",
    "        batch number, and n_input is the number of the corresponding\n",
    "        input node.\n",
    "        \n",
    "        The y input should be indexed like (n_batch, n_output),\n",
    "        where n_batch is the batch number, and n_output is the number\n",
    "        of the corresponding output node.\n",
    "        '''\n",
    "        tensor = self.forward(X = X)\n",
    "        predict_list = []\n",
    "        for element in tensor:\n",
    "            predict_list.append(element.numpy()[0][0])\n",
    "        return predict_list\n",
    "    \n",
    "# Instantiation performed here for convenience.\n",
    "lnd = {0:1,1:4,2:1}\n",
    "my_model = DenseANN(layer_node_dict = lnd)"
   ]
  },
  {
   "cell_type": "markdown",
   "metadata": {},
   "source": [
    "To summarise the class, we construct a dense ANN, with a dictionary responsible for letting us know how many nodes are in each layer. In the initialisation method, we have a concatenation of tf.Variables which represent the weight for a given node. In this part of the method, since we are iterating over the nodes and layers instead of just the layers, we can introduce code to assign a weight to each node like we wish. This avoids the problem of having to randomly initialise the entire layer weights, only to then replace those weights with another variable that we have created, which should save us memory. For now, to match the example in this notebook, we have created the same ANN as before, including using random initial weights.\n",
    "\n",
    "In the DenseANN class, we also include a string method to display a table that represents the network. The three main methods are forward(), loss() and backward(), which perform a forward pass of the input through the network, a calculation of the loss for supervised learning, and a back-propagation of the weights respectively. These three methods are used in the train() and predict() methods.\n",
    "\n",
    "Now we can check the string method, as well as what happens to the parameters and loss after one pass of the backwards method."
   ]
  },
  {
   "cell_type": "code",
   "execution_count": 12,
   "metadata": {},
   "outputs": [
    {
     "name": "stdout",
     "output_type": "stream",
     "text": [
      "Index     Type     n_nodes     n_weights     n_biases     n_params     \n",
      "0         Input    1           0             0            0            \n",
      "1         Hidden   4           4             4            8            \n",
      "2         Output   1           4             1            5            \n"
     ]
    },
    {
     "data": {
      "text/plain": [
       "''"
      ]
     },
     "execution_count": 12,
     "metadata": {},
     "output_type": "execute_result"
    }
   ],
   "source": [
    "my_model.__str__()"
   ]
  },
  {
   "cell_type": "code",
   "execution_count": 13,
   "metadata": {},
   "outputs": [
    {
     "data": {
      "text/plain": [
       "[<tf.Variable 'L1W:0' shape=(1, 4) dtype=float32, numpy=array([[0.54415256, 0.5126871 , 0.17035016, 0.23605852]], dtype=float32)>,\n",
       " <tf.Variable 'L1B:0' shape=(1, 4) dtype=float32, numpy=array([[0., 0., 0., 0.]], dtype=float32)>,\n",
       " <tf.Variable 'L2W:0' shape=(4, 1) dtype=float32, numpy=\n",
       " array([[0.88368547],\n",
       "        [0.65762204],\n",
       "        [0.6779399 ],\n",
       "        [0.71163243]], dtype=float32)>,\n",
       " <tf.Variable 'L2B:0' shape=(1, 1) dtype=float32, numpy=array([[0.]], dtype=float32)>]"
      ]
     },
     "execution_count": 13,
     "metadata": {},
     "output_type": "execute_result"
    }
   ],
   "source": [
    "# Initial parameters\n",
    "my_model.params"
   ]
  },
  {
   "cell_type": "code",
   "execution_count": 14,
   "metadata": {},
   "outputs": [
    {
     "name": "stdout",
     "output_type": "stream",
     "text": [
      "Loss = 3.649930477142334\n"
     ]
    }
   ],
   "source": [
    "# Initial loss\n",
    "print('Loss = {}'.format(my_model.loss(y_true = y, logits = my_model.forward(X = X, params = my_model.params)).numpy()))"
   ]
  },
  {
   "cell_type": "code",
   "execution_count": 15,
   "metadata": {},
   "outputs": [
    {
     "data": {
      "text/plain": [
       "[<tf.Variable 'L1W:0' shape=(1, 4) dtype=float32, numpy=array([[0.57658136, 0.53682   , 0.1952287 , 0.26217347]], dtype=float32)>,\n",
       " <tf.Variable 'L1B:0' shape=(1, 4) dtype=float32, numpy=array([[0.00152757, 0.00113679, 0.00117191, 0.00123015]], dtype=float32)>,\n",
       " <tf.Variable 'L2W:0' shape=(4, 1) dtype=float32, numpy=\n",
       " array([[0.9036544 ],\n",
       "        [0.67643625],\n",
       "        [0.6841913 ],\n",
       "        [0.72029513]], dtype=float32)>,\n",
       " <tf.Variable 'L2B:0' shape=(1, 1) dtype=float32, numpy=array([[0.00172863]], dtype=float32)>]"
      ]
     },
     "execution_count": 15,
     "metadata": {},
     "output_type": "execute_result"
    }
   ],
   "source": [
    "# Parameters after one epoch\n",
    "my_model.backward(X = X, y = y)\n",
    "my_model.params"
   ]
  },
  {
   "cell_type": "code",
   "execution_count": 16,
   "metadata": {},
   "outputs": [
    {
     "name": "stdout",
     "output_type": "stream",
     "text": [
      "Loss = 3.273970603942871\n"
     ]
    }
   ],
   "source": [
    "# Loss after one epoch\n",
    "print('Loss = {}'.format(my_model.loss(y_true = y, logits = my_model.forward(X = X, params = my_model.params)).numpy()))"
   ]
  },
  {
   "cell_type": "markdown",
   "metadata": {},
   "source": [
    "Excellent - the loss function decreases after a pass of the backward() method as expected. Now, we can look at training the system for the remaining 24 epochs."
   ]
  },
  {
   "cell_type": "code",
   "execution_count": 17,
   "metadata": {},
   "outputs": [
    {
     "name": "stdout",
     "output_type": "stream",
     "text": [
      "Epoch: 1/24: Loss (mse) = 0.5091421604156494\n",
      "Epoch: 2/24: Loss (mse) = 0.12741881608963013\n",
      "Epoch: 3/24: Loss (mse) = 0.12640556693077087\n",
      "Epoch: 4/24: Loss (mse) = 0.12639635801315308\n",
      "Epoch: 5/24: Loss (mse) = 0.1263960599899292\n",
      "Epoch: 6/24: Loss (mse) = 0.1263960748910904\n",
      "Epoch: 7/24: Loss (mse) = 0.1263960599899292\n",
      "Epoch: 8/24: Loss (mse) = 0.1263960599899292\n",
      "Epoch: 9/24: Loss (mse) = 0.126396045088768\n",
      "Epoch: 10/24: Loss (mse) = 0.1263960599899292\n",
      "Epoch: 11/24: Loss (mse) = 0.126396045088768\n",
      "Epoch: 12/24: Loss (mse) = 0.126396045088768\n",
      "Epoch: 13/24: Loss (mse) = 0.126396045088768\n",
      "Epoch: 14/24: Loss (mse) = 0.126396045088768\n",
      "Epoch: 15/24: Loss (mse) = 0.1263960599899292\n",
      "Epoch: 16/24: Loss (mse) = 0.126396045088768\n",
      "Epoch: 17/24: Loss (mse) = 0.1263960599899292\n",
      "Epoch: 18/24: Loss (mse) = 0.126396045088768\n",
      "Epoch: 19/24: Loss (mse) = 0.126396045088768\n",
      "Epoch: 20/24: Loss (mse) = 0.126396045088768\n",
      "Epoch: 21/24: Loss (mse) = 0.126396045088768\n",
      "Epoch: 22/24: Loss (mse) = 0.126396045088768\n",
      "Epoch: 23/24: Loss (mse) = 0.126396045088768\n",
      "Epoch: 24/24: Loss (mse) = 0.126396045088768\n"
     ]
    }
   ],
   "source": [
    "my_model.train(X = X, y_true = y, epochs = 24, l_rate = 1e-1)"
   ]
  },
  {
   "cell_type": "code",
   "execution_count": 18,
   "metadata": {},
   "outputs": [
    {
     "name": "stdout",
     "output_type": "stream",
     "text": [
      "Loss = 0.126396045088768\n"
     ]
    }
   ],
   "source": [
    "y_pred3 = my_model.predict(X = X)\n",
    "print('Loss = {}'.format(my_model.loss(y_true = y, logits = y_pred3).numpy()))"
   ]
  },
  {
   "cell_type": "code",
   "execution_count": 19,
   "metadata": {},
   "outputs": [
    {
     "data": {
      "text/plain": [
       "[<matplotlib.lines.Line2D at 0x1d08d21a640>,\n",
       " <matplotlib.lines.Line2D at 0x1d08d21a5b0>,\n",
       " <matplotlib.lines.Line2D at 0x1d08d168520>]"
      ]
     },
     "execution_count": 19,
     "metadata": {},
     "output_type": "execute_result"
    },
    {
     "data": {
      "image/png": "[encoded data removed]",
      "text/plain": [
       "<Figure size 576x576 with 1 Axes>"
      ]
     },
     "metadata": {
      "needs_background": "light"
     },
     "output_type": "display_data"
    }
   ],
   "source": [
    "# Showing the predictions.\n",
    "plt.figure(figsize = (8,8))\n",
    "plt.plot(X,y,'o',X,y_pred,'y', X,y_pred3,'b')"
   ]
  },
  {
   "cell_type": "markdown",
   "metadata": {},
   "source": [
    "The model performs comparible to the Keras ones, indicating our DenseANN class is doing something similar. On average, the mse loss is lower in the DenseANN class than on Keras too!\n",
    "\n",
    "## Conclusion\n",
    "\n",
    "To recap - we decided that the DenseANN class may be very useful since we can iterate over nodes within a layer for custom weights, as well as other factors that Keras does to the back-propagation that optimise the code, at the cost of the mse loss. I still think I will do testing on Keras networks despite the memory concerns with customising the first hidden layer, since in the example of 60x60 square pixel images the memory used should not be too high for my hardware. However, if scalability is a future issue, then the DenseANN class can help with this by reducing the memory needed to incorporate the custom initial weights into the network."
   ]
  },
  {
   "cell_type": "code",
   "execution_count": null,
   "metadata": {},
   "outputs": [],
   "source": []
  }
 ],
 "metadata": {
  "kernelspec": {
   "display_name": "Python 3",
   "language": "python",
   "name": "python3"
  },
  "language_info": {
   "codemirror_mode": {
    "name": "ipython",
    "version": 3
   },
   "file_extension": ".py",
   "mimetype": "text/x-python",
   "name": "python",
   "nbconvert_exporter": "python",
   "pygments_lexer": "ipython3",
   "version": "3.8.5"
  }
 },
 "nbformat": 4,
 "nbformat_minor": 4
}
