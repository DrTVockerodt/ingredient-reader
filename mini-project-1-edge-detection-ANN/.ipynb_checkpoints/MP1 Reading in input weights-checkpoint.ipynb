{
 "cells": [
  {
   "cell_type": "markdown",
   "metadata": {},
   "source": [
    "# Mini Project 1: Reading in initial weights for the first hidden layer"
   ]
  },
  {
   "cell_type": "markdown",
   "metadata": {},
   "source": [
    "As explained in the pdf for this project, we need to look at an alphanumeric edge detection program (using ANN(s) as per the project specifications) in order to read ingredients lists. This notebook will look into our approach using python in order to setup the initial weights and read in the images we wish to train on. \n",
    "\n",
    "The main weights we are concerned about are the ones linking the pixel features to the first hidden layer. Whilst usually all the weights are randomised, we are specifically investigating the effects of initially specialising the nodes in the first hidden layer to detect certain regions of the 60x60 pixel grid.\n",
    "\n",
    "The hypothesis is edge detection can occur using positive weights in regions where white pixels are to be located, and negative weights where black pixels are located. But what is the easiest way to code these initial weights? This section is dedicated to the attempts at reading in the initial weights for the first hidden layer. \n",
    "\n",
    "## Attempt 1: GUI using tkinter\n",
    "To me, this is the simplest way of programming a region of positive and negative weights. I did not have much familiarity with coding GUI in python, so I started by programming a simple GUI that has the following functions:\n",
    "\n",
    "1) Generate a GUI of 60x60 buttons (each button representing a pixel on the grid).\n",
    "\n",
    "2) Each button by default is 'off'. When clicked once, it sets the value of the weight at that pixel location to +1. When clicked twice, it sets the value of the weight at that pixel location to -1. When clicked thrice, it turns off.\n",
    "\n",
    "3) After the buttons are pressed as desired, the tkinter interface can be closed, and the weights are saved as a 1D array corresponding to the number of button clicks. "
   ]
  },
  {
   "cell_type": "markdown",
   "metadata": {},
   "source": [
    "### Imports"
   ]
  },
  {
   "cell_type": "code",
   "execution_count": 1,
   "metadata": {},
   "outputs": [],
   "source": [
    "'''\n",
    "Program used to generate the initial weights via a GUI interaction. The\n",
    "GUI appears, and the user can assign positive and negative initial\n",
    "weights to specific pixels on the grid.\n",
    "'''\n",
    "import tkinter as tk\n",
    "import numpy as np\n",
    "from enum import Enum "
   ]
  },
  {
   "cell_type": "markdown",
   "metadata": {},
   "source": [
    "### Click function"
   ]
  },
  {
   "cell_type": "code",
   "execution_count": 2,
   "metadata": {},
   "outputs": [],
   "source": [
    "class ClickState(Enum):\n",
    "    '''\n",
    "    This class gives us a way of labelling the click states\n",
    "    that is more readable.\n",
    "    \n",
    "    OFF (0) represents an unclicked button, and is the\n",
    "    default option.\n",
    "    POSITIVE (1) represents a button clicked once. This will\n",
    "    attribute a positive weight to the weights at the end of the code.\n",
    "    NEGATIVE (-1) represents a button clicked twice. This will\n",
    "    attribute a negative weight to the weights at the end of the code.\n",
    "    '''\n",
    "    \n",
    "    OFF = 0\n",
    "    POSITIVE = 1\n",
    "    NEGATIVE = -1\n",
    "    \n",
    "def click(x_val,y_val, grid_var, click_state):\n",
    "    '''\n",
    "    Uses the global grid buttons and a state changer to change the GUI\n",
    "    if a button has been pressed.\n",
    "\n",
    "    When clicked, the states will go through a cycle:\n",
    "\n",
    "    off -> positive -> negative -> off\n",
    "    '''\n",
    "\n",
    "    # This state cycle engine will go from the current state when\n",
    "    # the button is clicked, to the next state. The if conditions\n",
    "    # represent the current state when clicked, and the statements\n",
    "    # within represent the transition to the next state.\n",
    "    if click_state[x_val][y_val] == ClickState.NEGATIVE.value:\n",
    "        # Changing the button on the GUI\n",
    "        grid_var[x_val][y_val].config(bg = 'SystemButtonFace', text = '')\n",
    "        # Changing the click_state\n",
    "        click_state[x_val][y_val] = ClickState.OFF.value\n",
    "\n",
    "    elif click_state[x_val][y_val] == ClickState.OFF.value:\n",
    "        # Changing the button on the GUI\n",
    "        grid_var[x_val][y_val].config(bg = 'cyan', text = '+')\n",
    "        # Changing the click_state\n",
    "        click_state[x_val][y_val] = ClickState.POSITIVE.value\n",
    "\n",
    "    elif click_state[x_val][y_val] == ClickState.POSITIVE.value:\n",
    "        # Changing the button on the GUI\n",
    "        grid_var[x_val][y_val].config(bg = 'red', text = '-')\n",
    "        # Changing the click_state\n",
    "        click_state[x_val][y_val] = ClickState.NEGATIVE.value"
   ]
  },
  {
   "cell_type": "markdown",
   "metadata": {},
   "source": [
    "### GUI"
   ]
  },
  {
   "cell_type": "code",
   "execution_count": 3,
   "metadata": {},
   "outputs": [],
   "source": [
    "def run_ini_weights_gui(n_x = 60, n_y = 60, tol_var = 1E-6):\n",
    "    '''\n",
    "    Runs the GUI for setting the initial weights. Uses the click(x,y)\n",
    "    function defined above.\n",
    "    '''\n",
    "\n",
    "    # grid_var is a list of buttons.\n",
    "    grid_var = [[0 for i in range(n_x)] for j in range(n_y)]\n",
    "    click_state = [[ClickState.OFF.value for i in range(n_x)] for j in range(n_y)]\n",
    "    root = tk.Tk()\n",
    "\n",
    "    # Iterating over the rows and columns.\n",
    "    for row_val in range(n_x):\n",
    "        for col_val in range(n_y):\n",
    "            grid_var[row_val][col_val] = tk.Button(root,command = lambda\n",
    "            x = row_val, y = col_val : click(x,y,grid_var,click_state),\n",
    "            height = 1, width = 1)\n",
    "            # Placing the button on the grid.\n",
    "            grid_var[row_val][col_val].grid(row = row_val, column = col_val)\n",
    "\n",
    "    root.mainloop()\n",
    "    # The initial weights for now are just an array of click_state.\n",
    "    ini_weights = np.array(click_state, dtype = np.float_)\n",
    "    # Reshaping into a 1D array. The .flatten() method returns a copy, and\n",
    "    # does not perform the flattening in place!\n",
    "    ini_weights = ini_weights.flatten()\n",
    "    del grid_var, row_val, col_val, root, click_state\n",
    "\n",
    "    # Since weights that are zero will not change via back-propagation,\n",
    "    # we assign weights with absolute values less than tol_var as equal to that tolerance.\n",
    "    # This will allow them to change as the ANN learns.\n",
    "    for index, weight in enumerate(ini_weights):\n",
    "        if abs(weight) < tol_var:\n",
    "            ini_weights[index] = tol_var\n",
    "\n",
    "    return ini_weights"
   ]
  },
  {
   "cell_type": "markdown",
   "metadata": {},
   "source": [
    "### Main code"
   ]
  },
  {
   "cell_type": "code",
   "execution_count": 4,
   "metadata": {},
   "outputs": [
    {
     "name": "stdout",
     "output_type": "stream",
     "text": [
      "i = 0, weight = 1.0\n",
      "i = 1, weight = 1.0\n",
      "i = 2, weight = 1.0\n",
      "i = 3, weight = -1.0\n",
      "i = 4, weight = -1.0\n",
      "i = 5, weight = -1.0\n",
      "i = 6, weight = 1e-06\n",
      "i = 7, weight = 1.0\n",
      "i = 8, weight = 1e-06\n",
      "i = 9, weight = -1.0\n"
     ]
    }
   ],
   "source": [
    "WEIGHTS = run_ini_weights_gui()\n",
    "# Printing the first 10 elements of the WEIGHTS array.\n",
    "for INDEX, WEIGHT in enumerate(WEIGHTS):\n",
    "    if INDEX > 9:\n",
    "        break\n",
    "    print('i = {}, weight = {}'.format(INDEX, WEIGHT))"
   ]
  },
  {
   "cell_type": "markdown",
   "metadata": {},
   "source": [
    "### Discussion\n",
    "The code works as expected, and the run_ini_weights_gui() function can be called as many times as there are nodes. We can also save a config file for each node, and check if it exists using imported os commands such as os.path.exists() on the config file name. This will save us from having to re-initialise all of the node weights if we do not wish to. \n",
    "\n",
    "However, the GUI is cumbersome. Since the click function is only called via clicking the button, it means that each individual pixel must be clicked the desired number of times in order to assign it. Also, the loading times for the GUI are undesirably slow. This is a lot of time spent assigning the initial weights that can be better spent elsewhere. Granted - python is not known amongst the other languages for speed, but we would like to think of more efficient ways to use python as part of the creative challenge of the project specifications!"
   ]
  },
  {
   "cell_type": "markdown",
   "metadata": {},
   "source": [
    "## Attempt 2: Using MS Paint's GUI and image imports\n",
    "\n",
    "Whilst I was clicking away at the GUI, I was thinking about how much of MS Paint's GUI that I take for granted. The ability to use drag click alone saves a lot of time, and at least initially it would seem very complicated to try and introduce that kind of functionality into a tkinter GUI.\n",
    "\n",
    "The beautiful thing about python is that with all of its cross talking between different input types and libraries, I did not have to re-invent the MS Paint GUI using tkinter. A brilliant idea came to me: why not just create images using the MS Paint GUI, import them into python, and then convert the pixel data of that image into a set of weights?\n",
    "\n",
    "For this algorithm, we have the following steps:\n",
    "\n",
    "1) Read in a 60x60 pixel image file with a black background, with cyan corresponding to positive weights and red to negative (as per our original, colourblind appropriate colour scheme in the pdf).\n",
    "\n",
    "2) Iterate over the pixels, and convert the pixels into weights. If the colour is cyan, convert to +1, if red, convert to -1, and if black/white convert to 0. \n",
    "\n",
    "3) Produce a 1D weight array corresponding to all of the pixels in the grid.\n",
    "\n",
    "For step 2), I will have to go into a little bit of colour theory."
   ]
  },
  {
   "cell_type": "markdown",
   "metadata": {},
   "source": [
    "### Imports (some are used for the colour theory explanation, so I put them all here for convenience)"
   ]
  },
  {
   "cell_type": "code",
   "execution_count": 5,
   "metadata": {},
   "outputs": [],
   "source": [
    "import os\n",
    "import math as m\n",
    "from PIL import Image"
   ]
  },
  {
   "cell_type": "markdown",
   "metadata": {},
   "source": [
    "### Colour theory\n",
    "\n",
    "I want to design a map that takes the pixel colour values to a weighting. As per my chosen colour scheme, I want cyan to map to a weight of +1, and red to -1, to represent the positive and negative weights. This can be done by expressing the colours as 2D vectors in the xy plane.\n",
    "\n",
    "Below is a diagram of the coordinate system that I am using. Here, I have aligned the x-axis along the colour cyan. "
   ]
  },
  {
   "cell_type": "code",
   "execution_count": 6,
   "metadata": {},
   "outputs": [
    {
     "data": {
      "image/png": "[encoded data removed]",
      "text/plain": [
       "<PIL.Image.Image image mode=RGBA size=300x300 at 0x15BE48DCD60>"
      ]
     },
     "execution_count": 6,
     "metadata": {},
     "output_type": "execute_result"
    }
   ],
   "source": [
    "# Opening the image about colour theory.\n",
    "colour_theory_image = Image.open('colour_wheel_cyan_vectors.png')\n",
    "colour_theory_image.resize((300,300))\n",
    "\n",
    "# CAPTION: Colour wheel with the colour cyan aligned with the x-axis.\n",
    "# Red is along the negative x-axis, and the green and blue vectors are 300 and 60 degrees respectively\n",
    "# from the positive x-axis.\n",
    "\n",
    "# Adapted from https://commons.wikimedia.org/w/index.php?curid=92880308 under license CC BY-SA 4.0."
   ]
  },
  {
   "cell_type": "markdown",
   "metadata": {},
   "source": [
    "In this coordinate system, we express the unit vectors for the red, green and blue colours as\n",
    "\n",
    "$$\n",
    "\\hat{\\textbf{R}} = \\begin{bmatrix}\n",
    "-1 \\\\\n",
    "0\n",
    "\\end{bmatrix},\n",
    "\\ \\hat{\\textbf{G}} = \\begin{bmatrix}\n",
    "\\cos(300 \\text{°}) \\\\\n",
    "\\sin(300 \\text{°}) \n",
    "\\end{bmatrix} = \\frac{1}{2}\\begin{bmatrix}\n",
    "1 \\\\\n",
    "-\\sqrt{3} \n",
    "\\end{bmatrix},\n",
    "\\ \\hat{\\textbf{B}} = \\begin{bmatrix}\n",
    "\\cos(60 \\text{°}) \\\\\n",
    "\\sin(60 \\text{°}) \n",
    "\\end{bmatrix} = \\frac{1}{2}\\begin{bmatrix}\n",
    "1 \\\\\n",
    "\\sqrt{3} \n",
    "\\end{bmatrix},\n",
    "$$\n",
    "\n",
    "where $\\hat{\\textbf{R}}, \\hat{\\textbf{G}}$ and $\\hat{\\textbf{B}}$ are the unit vectors in the red, green and blue directions respectively. When we look at a pixel using python, it gives us a tuple containing the red, green and blue content of the pixel, which just tells us the amount of the unit vectors $\\hat{\\textbf{R}}, \\hat{\\textbf{G}}$ and $\\hat{\\textbf{B}}$ that we have in that pixel. If we label the pixel tuple as $(R,G,B)$, then we express the colour vector $\\textbf{C}_{R,G,B}$ in our coordinate system as\n",
    "\n",
    "$$\n",
    "\\textbf{C}_{R,G,B} = \\frac{R\\cdot\\hat{\\textbf{R}} + G\\cdot\\hat{\\textbf{G}} + B\\cdot\\hat{\\textbf{B}}}{255}.\n",
    "$$\n",
    "\n",
    "The division by 255 ensures that cyan maps to $\\begin{bmatrix}1 \\\\ 0 \n",
    "\\end{bmatrix}$, and red to $\\begin{bmatrix} -1 \\\\ 0 \n",
    "\\end{bmatrix}$. Both white and black in this instance map to $\\begin{bmatrix}0 \\\\ 0 \n",
    "\\end{bmatrix}$. Since we only plan on using cyan and red to represent positive and negative weights respectively, we can take the x-component of the vector $\\textbf{C}_{R,G,B}$ as the value of our weight. The code for this is shown below."
   ]
  },
  {
   "cell_type": "markdown",
   "metadata": {},
   "source": [
    "### Pixels to weight function"
   ]
  },
  {
   "cell_type": "code",
   "execution_count": 7,
   "metadata": {},
   "outputs": [],
   "source": [
    "def pixel_to_weight(pixel_colours, tol_var = 1E-6):\n",
    "    '''\n",
    "    Coverts a single pixel tuple into a weight for the initial weighting.\n",
    "    Acceptable colours are cyan for positive weights, red for negative\n",
    "    weights, and black for 0.\n",
    "\n",
    "    This function converts the red, green and blue values into 2D\n",
    "    vectors, where the x-axis is aligned along the cyan axis. So purely\n",
    "    red maps to a vector of (-1,0), and purely cyan to (1,0).\n",
    "    The weight is taken as the value of the x-component, provided that the\n",
    "    absolute value of the x-component is greater than the tolerance tol_var.\n",
    "    '''\n",
    "\n",
    "    global RED_UNIT_VEC, GREEN_UNIT_VEC, BLUE_UNIT_VEC\n",
    "\n",
    "    # The colour vector is the sum of the colour components.\n",
    "    colour_vec = (pixel_colours[0]*RED_UNIT_VEC + \\\n",
    "    pixel_colours[1]*GREEN_UNIT_VEC + \\\n",
    "    pixel_colours[2]*BLUE_UNIT_VEC) \\\n",
    "    /(255.0)\n",
    "\n",
    "    # The weights will not change if the baseline level is too\n",
    "    # low in absolute value, so we pick a tolerance. If the\n",
    "    # absolute value of the x component is less than the tolerance,\n",
    "    # then we assign the weight to the tolerance multiplied by the\n",
    "    # sign of the x component. Else, we just assign the weight to the\n",
    "    # x component.\n",
    "    if abs(colour_vec[0]) > tol_var:\n",
    "        return colour_vec[0]\n",
    "    return np.sign(colour_vec[0])*tol_var"
   ]
  },
  {
   "cell_type": "markdown",
   "metadata": {},
   "source": [
    "I will now test this code using some other functions that will be useful later on. Using the weights that we generated, I will look at two things:\n",
    "\n",
    "1) The results of the basic colours/shades using the function pixel_to_weight().\n",
    "\n",
    "2) The result of a function that transforms the weights back into the pixel contents, and re-draws the image.\n",
    "\n",
    "The latter requires a function that takes the weights, which is just the x-component of the vector $\\textbf{C}_{R,G,B}$, and returns the equivalent amount of cyan or red depending on whether or not the input weight is postive or negative respectively. Note that this does NOT map back to the original vector $\\textbf{C}_{R,G,B}$, which could be any colour, but rather just converts that vector into a new vector $\\textbf{C}^{'}_{R,G,B}$ which scales from cyan to red."
   ]
  },
  {
   "cell_type": "markdown",
   "metadata": {},
   "source": [
    "### Weights to pixels function, which depends on the smaller weight to pixel function"
   ]
  },
  {
   "cell_type": "code",
   "execution_count": 8,
   "metadata": {},
   "outputs": [],
   "source": [
    "def weights_to_pixels(weights,out_filename):\n",
    "    '''\n",
    "    This is a function that takes in the weights of a single node in\n",
    "    the first hidden layer, and changes them into an image. This should\n",
    "    be used to test the output of the pixel_to_weight() method above,\n",
    "    but it can also be used to generate pictures of the distribution of\n",
    "    weights after the ANN has converged.\n",
    "    '''\n",
    "\n",
    "    global N_X, N_Y\n",
    "\n",
    "    # On input, weights are a 1D array or list. We can reshape it into\n",
    "    # a 2D array in order for easier indexing.\n",
    "    weights_2d = np.array(weights).reshape((N_X,N_Y))\n",
    "    out_image = Image.new('RGB', (N_X,N_Y), 'white')\n",
    "    pixels_var = out_image.load()\n",
    "\n",
    "    # Now iterating over the width and height.\n",
    "    for i in range(N_X):\n",
    "        for j in range(N_Y):\n",
    "            pixels_var[i,j] = weight_to_pixel(weights_2d[i,j])\n",
    "\n",
    "    # Now we can save to the desired output name.\n",
    "    out_image.save(out_filename)\n",
    "    del out_image, pixels_var, weights_2d\n",
    "    return 'WEIGHTS TO PIXELS COMPLETE\\n'\n",
    "\n",
    "def weight_to_pixel(weight_var, accur_var = 14):\n",
    "    '''\n",
    "    This function converts a singular weight value to a pixel.\n",
    "    Rounding is necessary to map cyan to the proper pixel value.\n",
    "    accur_var controls the accuracy of the round() method.\n",
    "    '''\n",
    "\n",
    "    # If the weight is less than or equal to zero, then we take the\n",
    "    # absolute value of that weight in terms of red.\n",
    "    # If the weight is greater than zero, then we take the value of the\n",
    "    # weight in terms of cyan.\n",
    "    if weight_var <= 0:\n",
    "        return (int(255*abs(round(weight_var,accur_var))),0,0)\n",
    "    return (0,int(255*round(weight_var,accur_var)),\\\n",
    "                int(255*round(weight_var,accur_var)))"
   ]
  },
  {
   "cell_type": "markdown",
   "metadata": {},
   "source": [
    "### Test functions"
   ]
  },
  {
   "cell_type": "code",
   "execution_count": 9,
   "metadata": {},
   "outputs": [],
   "source": [
    "def colour_test():\n",
    "    '''\n",
    "    This function tests the values of the functions pixel_to_weight()\n",
    "    and weight_to_pixel() for some basic colours/shades.\n",
    "    '''\n",
    "\n",
    "    global COLOUR_DICT\n",
    "\n",
    "    # Testing values of the pixel function to show the forward and the\n",
    "    # inverse mapping.\n",
    "    print('\\nTESTING VALUES OF pixel_to_weight() AND THEN \\\n",
    "weight_to_pixel() OF VARIOUS COLOURS/shades: \\n')\n",
    "\n",
    "    count = 0\n",
    "    x_max = 2\n",
    "    y_max = len(COLOUR_DICT)\n",
    "    dpixels = 60\n",
    "\n",
    "    test_image = Image.new('RGB', (x_max*dpixels,\n",
    "    y_max*dpixels), 'white')\n",
    "    test_pixels = test_image.load()\n",
    "\n",
    "    # Iterating over the colour dictionary.\n",
    "    for colour in COLOUR_DICT.keys():\n",
    "        weight_temp = pixel_to_weight(COLOUR_DICT[colour])\n",
    "        pixel_temp = weight_to_pixel(weight_temp)\n",
    "        print('COLOUR = {}:\\n'.format(colour))\n",
    "        print('ORIGINAL PIXEL = {}, WEIGHT = {}, NEW PIXEL \\\n",
    "= {}\\n'.format(COLOUR_DICT[colour], weight_temp, pixel_temp))\n",
    "\n",
    "        # Now showing the comparison between the pixels on the test\n",
    "        # image strip. The left most block are the original colours,\n",
    "        # and the right most block are the projected colours onto the\n",
    "        # x-axis.\n",
    "        for i_val in range(0,x_max*dpixels):\n",
    "            for j_val in range(count*dpixels,(count+1)*dpixels):\n",
    "                if i_val < dpixels:\n",
    "                    test_pixels[i_val, j_val] = COLOUR_DICT[colour]\n",
    "                else:\n",
    "                    test_pixels[i_val, j_val] = pixel_temp\n",
    "        count += 1\n",
    "\n",
    "    del weight_temp, pixel_temp, count\n",
    "    return test_image\n",
    "\n",
    "def readin_readout_test():\n",
    "    '''\n",
    "    Test function to show that the read-in of the weights from an input\n",
    "    image and the output image are the same. This can be shown by\n",
    "    visually comparing images test_weights.png and test_weights_out.png\n",
    "    '''\n",
    "\n",
    "    global N_X, N_Y\n",
    "    weights = []\n",
    "\n",
    "    # Reading in the test image.\n",
    "    in_filename = os.getcwd()\n",
    "    in_filename += '\\\\ini_weights\\\\input_weights_test_images\\\\test_weights.png'\n",
    "    in_image = Image.open(in_filename)\n",
    "    in_pixels = in_image.load()\n",
    "\n",
    "    # If the sizes match the hardcoded values, then we can comfortably\n",
    "    # iterate over the pixels to get the weights.\n",
    "    if in_image.size[0] == N_X and in_image.size[1] == N_Y:\n",
    "        for x_val in range(N_X):\n",
    "            for y_val in range(N_Y):\n",
    "                weights.append(pixel_to_weight(in_pixels[x_val,y_val]))\n",
    "\n",
    "        # Now we prepare the output filename.\n",
    "        out_filename = os.getcwd()\n",
    "        out_filename += '\\\\ini_weights\\\\input_weights_test_images\\\\test_weights_out.png'\n",
    "        print(weights_to_pixels(weights,out_filename))\n",
    "        return 'READIN READOUT TEST COMPLETE\\n'\n",
    "\n",
    "    print('ERROR: size of input image does not match dimensions of\\\n",
    "grid. N_X = {}, N_Y = {}'.format(N_X,N_Y))\n",
    "    return 'READIN READOUT TEST INCOMPLETE\\n'"
   ]
  },
  {
   "cell_type": "markdown",
   "metadata": {},
   "source": [
    "### Main code"
   ]
  },
  {
   "cell_type": "code",
   "execution_count": 10,
   "metadata": {},
   "outputs": [
    {
     "name": "stdout",
     "output_type": "stream",
     "text": [
      "\n",
      "TESTING VALUES OF pixel_to_weight() AND THEN weight_to_pixel() OF VARIOUS COLOURS/shades: \n",
      "\n",
      "COLOUR = RED:\n",
      "\n",
      "ORIGINAL PIXEL = (255, 0, 0), WEIGHT = -1.0, NEW PIXEL = (255, 0, 0)\n",
      "\n",
      "COLOUR = GREEN:\n",
      "\n",
      "ORIGINAL PIXEL = (0, 255, 0), WEIGHT = 0.49999999999999933, NEW PIXEL = (0, 127, 127)\n",
      "\n",
      "COLOUR = BLUE:\n",
      "\n",
      "ORIGINAL PIXEL = (0, 0, 255), WEIGHT = 0.5000000000000001, NEW PIXEL = (0, 127, 127)\n",
      "\n",
      "COLOUR = CYAN:\n",
      "\n",
      "ORIGINAL PIXEL = (0, 255, 255), WEIGHT = 0.9999999999999994, NEW PIXEL = (0, 255, 255)\n",
      "\n",
      "COLOUR = MAGENTA:\n",
      "\n",
      "ORIGINAL PIXEL = (255, 0, 255), WEIGHT = -0.4999999999999999, NEW PIXEL = (127, 0, 0)\n",
      "\n",
      "COLOUR = YELLOW:\n",
      "\n",
      "ORIGINAL PIXEL = (255, 255, 0), WEIGHT = -0.5000000000000007, NEW PIXEL = (127, 0, 0)\n",
      "\n",
      "COLOUR = WHITE:\n",
      "\n",
      "ORIGINAL PIXEL = (255, 255, 255), WEIGHT = -1e-06, NEW PIXEL = (0, 0, 0)\n",
      "\n",
      "COLOUR = BLACK:\n",
      "\n",
      "ORIGINAL PIXEL = (0, 0, 0), WEIGHT = 0.0, NEW PIXEL = (0, 0, 0)\n",
      "\n",
      "COLOUR = GREY:\n",
      "\n",
      "ORIGINAL PIXEL = (127, 127, 127), WEIGHT = -1e-06, NEW PIXEL = (0, 0, 0)\n",
      "\n",
      "WEIGHTS TO PIXELS COMPLETE\n",
      "\n",
      "READIN READOUT TEST COMPLETE\n",
      "\n"
     ]
    }
   ],
   "source": [
    "# The cyan unit vector is aligned along the x-axis, therefore red is\n",
    "# aligned along the negative x-axis.\n",
    "# The green and blue unit vectors are 300 and 60 degrees from the\n",
    "# positive x-axis respectively.\n",
    "THETA = m.radians(60.0)\n",
    "RED_UNIT_VEC = np.array([-1,0])\n",
    "GREEN_UNIT_VEC = np.array([np.cos(5.0*THETA),np.sin(5.0*THETA)])\n",
    "BLUE_UNIT_VEC = np.array([np.cos(THETA),np.sin(THETA)])\n",
    "del THETA\n",
    "\n",
    "# N_X, N_Y is the size of the grid in the x and y directions\n",
    "# respectively.\n",
    "N_X = 60\n",
    "N_Y = 60\n",
    "\n",
    "# Building the colour dictionary of test colours/shades.\n",
    "COLOUR_DICT = {'RED':(255,0,0),'GREEN':(0,255,0),'BLUE':(0,0,255),\n",
    "'CYAN':(0,255,255),'MAGENTA':(255,0,255),'YELLOW':(255,255,0),\n",
    "'WHITE':(255,255,255),'BLACK':(0,0,0), 'GREY':(127,127,127)}\n",
    "\n",
    "TEST_IMAGE = colour_test()\n",
    "del COLOUR_DICT\n",
    "\n",
    "print(readin_readout_test())\n",
    "del RED_UNIT_VEC, GREEN_UNIT_VEC, BLUE_UNIT_VEC, N_X, N_Y"
   ]
  },
  {
   "cell_type": "markdown",
   "metadata": {},
   "source": [
    "### Inputs and outputs\n",
    "We had an input file called test_weights.png, which shows an example of weights that may be used. The image was generated using the MS Paint GUI. The above code uses the test functions to map the input image to weights, and then the weights to an output image called test_weights_out.png. \n",
    "\n",
    "TEST_IMAGE shows the result of taking some basic colours/shades, and taking them through this process. The colours on the left are the original colours used, and on the right are the projections of that colour on our cyan-red x-axis. Firstly, red and cyan map to each other as expected. Green and blue have a weight of approximately 0.5, which maps to a darker shade of cyan. Yellow and magenta have a weight of approximately -0.5, which maps to a darker shade of red. All shades of white map to black using this procedure, because the weight is approximately 0. \n",
    "\n",
    "What this tells us is that we can use the weights_to_pixels() function to create colour maps showing the value of the weights (provided of course they are normalised using their maximum value). This will be used to test what happens to our initialised nodes after the ANN has converged, to see to what extent the weights change from their initial configuration. \n",
    "\n",
    "The last two cells compare test_weights.png and test_weights_out.png, which shows good and expected replication of the data using the functions. Therefore, we can draw the initial weights using the superior MS Paint GUI for better replication of the results."
   ]
  },
  {
   "cell_type": "code",
   "execution_count": 11,
   "metadata": {},
   "outputs": [
    {
     "data": {
      "image/png": "[encoded data removed]",
      "text/plain": [
       "<PIL.Image.Image image mode=RGB size=120x540 at 0x15BE4976F10>"
      ]
     },
     "execution_count": 11,
     "metadata": {},
     "output_type": "execute_result"
    }
   ],
   "source": [
    "TEST_IMAGE"
   ]
  },
  {
   "cell_type": "code",
   "execution_count": 12,
   "metadata": {},
   "outputs": [
    {
     "data": {
      "image/png": "[encoded data removed]",
      "text/plain": [
       "<PIL.Image.Image image mode=RGBA size=200x200 at 0x15BE4976CA0>"
      ]
     },
     "execution_count": 12,
     "metadata": {},
     "output_type": "execute_result"
    }
   ],
   "source": [
    "in_filename = os.getcwd()\n",
    "in_filename += '\\\\ini_weights\\\\input_weights_test_images\\\\test_weights.png'\n",
    "in_image = Image.open(in_filename)\n",
    "in_image.resize((200,200))"
   ]
  },
  {
   "cell_type": "code",
   "execution_count": 13,
   "metadata": {},
   "outputs": [
    {
     "data": {
      "image/png": "[encoded data removed]",
      "text/plain": [
       "<PIL.Image.Image image mode=RGB size=200x200 at 0x15BE4954E20>"
      ]
     },
     "execution_count": 13,
     "metadata": {},
     "output_type": "execute_result"
    }
   ],
   "source": [
    "out_filename = os.getcwd()\n",
    "out_filename += '\\\\ini_weights\\\\input_weights_test_images\\\\test_weights_out.png'\n",
    "out_image = Image.open(out_filename)\n",
    "out_image.resize((200,200))"
   ]
  },
  {
   "cell_type": "markdown",
   "metadata": {},
   "source": [
    "## Conclusion\n",
    "I set out to create a GUI that can allow one to set the initial weights for the ANN. I found that the python widget based GUIs to be too cumbersome for our purposes here, and therefore opted to choose an already optimised GUI in terms of user experience, and port the outputs to files that python can use. I chose MS Paint since it is either already installed or available for installation on all Windows PCs, but any GUI that can create colour image files will suffice. This drastically reduces the time spent on generating the initial weights for the ANN developer.\n",
    "\n",
    "I demonstrated that the initial weights could be read in via an image, and then converted back into the original image using the inverse of the function (for certain choices of colours used in the initial image, namely if the initial image contains cyan and red as the only non-white colours). These functions have successfully passed all tests and are suitable for the purpose they were created for."
   ]
  }
 ],
 "metadata": {
  "kernelspec": {
   "display_name": "Python 3",
   "language": "python",
   "name": "python3"
  },
  "language_info": {
   "codemirror_mode": {
    "name": "ipython",
    "version": 3
   },
   "file_extension": ".py",
   "mimetype": "text/x-python",
   "name": "python",
   "nbconvert_exporter": "python",
   "pygments_lexer": "ipython3",
   "version": "3.8.5"
  }
 },
 "nbformat": 4,
 "nbformat_minor": 4
}
